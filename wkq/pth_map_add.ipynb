{
 "cells": [
  {
   "cell_type": "code",
   "execution_count": 1,
   "id": "3de0641e",
   "metadata": {},
   "outputs": [],
   "source": [
    "multi_filepath=\"/data/workdirs/bevfusion-multitask/baseline-changebevsize/epoch_6.pth\"\n",
    "seg_filepath=\"/data/workdirs/bevfusion-map-seg/dgbev3/epoch_20.pth\"\n",
    "det_filepath=\"/data/workdirs/bevfusion/depth_map5/epoch_6.pth\""
   ]
  },
  {
   "cell_type": "code",
   "execution_count": 2,
   "id": "3ef69050",
   "metadata": {},
   "outputs": [],
   "source": [
    "import torch"
   ]
  },
  {
   "cell_type": "code",
   "execution_count": 3,
   "id": "10fda56b",
   "metadata": {},
   "outputs": [],
   "source": [
    "multi_pth=torch.load(multi_filepath)"
   ]
  },
  {
   "cell_type": "code",
   "execution_count": 4,
   "id": "6e09fe5f",
   "metadata": {},
   "outputs": [
    {
     "data": {
      "text/plain": [
       "dict_keys(['meta', 'state_dict', 'optimizer'])"
      ]
     },
     "execution_count": 4,
     "metadata": {},
     "output_type": "execute_result"
    }
   ],
   "source": [
    "multi_pth.keys()"
   ]
  },
  {
   "cell_type": "code",
   "execution_count": 5,
   "id": "4c80cd3c",
   "metadata": {},
   "outputs": [
    {
     "data": {
      "text/plain": [
       "odict_keys(['encoders.camera.backbone.patch_embed.projection.weight', 'encoders.camera.backbone.patch_embed.projection.bias', 'encoders.camera.backbone.patch_embed.norm.weight', 'encoders.camera.backbone.patch_embed.norm.bias', 'encoders.camera.backbone.stages.0.blocks.0.norm1.weight', 'encoders.camera.backbone.stages.0.blocks.0.norm1.bias', 'encoders.camera.backbone.stages.0.blocks.0.attn.w_msa.relative_position_bias_table', 'encoders.camera.backbone.stages.0.blocks.0.attn.w_msa.relative_position_index', 'encoders.camera.backbone.stages.0.blocks.0.attn.w_msa.qkv.weight', 'encoders.camera.backbone.stages.0.blocks.0.attn.w_msa.qkv.bias', 'encoders.camera.backbone.stages.0.blocks.0.attn.w_msa.proj.weight', 'encoders.camera.backbone.stages.0.blocks.0.attn.w_msa.proj.bias', 'encoders.camera.backbone.stages.0.blocks.0.norm2.weight', 'encoders.camera.backbone.stages.0.blocks.0.norm2.bias', 'encoders.camera.backbone.stages.0.blocks.0.ffn.layers.0.0.weight', 'encoders.camera.backbone.stages.0.blocks.0.ffn.layers.0.0.bias', 'encoders.camera.backbone.stages.0.blocks.0.ffn.layers.1.weight', 'encoders.camera.backbone.stages.0.blocks.0.ffn.layers.1.bias', 'encoders.camera.backbone.stages.0.blocks.1.norm1.weight', 'encoders.camera.backbone.stages.0.blocks.1.norm1.bias', 'encoders.camera.backbone.stages.0.blocks.1.attn.w_msa.relative_position_bias_table', 'encoders.camera.backbone.stages.0.blocks.1.attn.w_msa.relative_position_index', 'encoders.camera.backbone.stages.0.blocks.1.attn.w_msa.qkv.weight', 'encoders.camera.backbone.stages.0.blocks.1.attn.w_msa.qkv.bias', 'encoders.camera.backbone.stages.0.blocks.1.attn.w_msa.proj.weight', 'encoders.camera.backbone.stages.0.blocks.1.attn.w_msa.proj.bias', 'encoders.camera.backbone.stages.0.blocks.1.norm2.weight', 'encoders.camera.backbone.stages.0.blocks.1.norm2.bias', 'encoders.camera.backbone.stages.0.blocks.1.ffn.layers.0.0.weight', 'encoders.camera.backbone.stages.0.blocks.1.ffn.layers.0.0.bias', 'encoders.camera.backbone.stages.0.blocks.1.ffn.layers.1.weight', 'encoders.camera.backbone.stages.0.blocks.1.ffn.layers.1.bias', 'encoders.camera.backbone.stages.0.downsample.norm.weight', 'encoders.camera.backbone.stages.0.downsample.norm.bias', 'encoders.camera.backbone.stages.0.downsample.reduction.weight', 'encoders.camera.backbone.stages.1.blocks.0.norm1.weight', 'encoders.camera.backbone.stages.1.blocks.0.norm1.bias', 'encoders.camera.backbone.stages.1.blocks.0.attn.w_msa.relative_position_bias_table', 'encoders.camera.backbone.stages.1.blocks.0.attn.w_msa.relative_position_index', 'encoders.camera.backbone.stages.1.blocks.0.attn.w_msa.qkv.weight', 'encoders.camera.backbone.stages.1.blocks.0.attn.w_msa.qkv.bias', 'encoders.camera.backbone.stages.1.blocks.0.attn.w_msa.proj.weight', 'encoders.camera.backbone.stages.1.blocks.0.attn.w_msa.proj.bias', 'encoders.camera.backbone.stages.1.blocks.0.norm2.weight', 'encoders.camera.backbone.stages.1.blocks.0.norm2.bias', 'encoders.camera.backbone.stages.1.blocks.0.ffn.layers.0.0.weight', 'encoders.camera.backbone.stages.1.blocks.0.ffn.layers.0.0.bias', 'encoders.camera.backbone.stages.1.blocks.0.ffn.layers.1.weight', 'encoders.camera.backbone.stages.1.blocks.0.ffn.layers.1.bias', 'encoders.camera.backbone.stages.1.blocks.1.norm1.weight', 'encoders.camera.backbone.stages.1.blocks.1.norm1.bias', 'encoders.camera.backbone.stages.1.blocks.1.attn.w_msa.relative_position_bias_table', 'encoders.camera.backbone.stages.1.blocks.1.attn.w_msa.relative_position_index', 'encoders.camera.backbone.stages.1.blocks.1.attn.w_msa.qkv.weight', 'encoders.camera.backbone.stages.1.blocks.1.attn.w_msa.qkv.bias', 'encoders.camera.backbone.stages.1.blocks.1.attn.w_msa.proj.weight', 'encoders.camera.backbone.stages.1.blocks.1.attn.w_msa.proj.bias', 'encoders.camera.backbone.stages.1.blocks.1.norm2.weight', 'encoders.camera.backbone.stages.1.blocks.1.norm2.bias', 'encoders.camera.backbone.stages.1.blocks.1.ffn.layers.0.0.weight', 'encoders.camera.backbone.stages.1.blocks.1.ffn.layers.0.0.bias', 'encoders.camera.backbone.stages.1.blocks.1.ffn.layers.1.weight', 'encoders.camera.backbone.stages.1.blocks.1.ffn.layers.1.bias', 'encoders.camera.backbone.stages.1.downsample.norm.weight', 'encoders.camera.backbone.stages.1.downsample.norm.bias', 'encoders.camera.backbone.stages.1.downsample.reduction.weight', 'encoders.camera.backbone.stages.2.blocks.0.norm1.weight', 'encoders.camera.backbone.stages.2.blocks.0.norm1.bias', 'encoders.camera.backbone.stages.2.blocks.0.attn.w_msa.relative_position_bias_table', 'encoders.camera.backbone.stages.2.blocks.0.attn.w_msa.relative_position_index', 'encoders.camera.backbone.stages.2.blocks.0.attn.w_msa.qkv.weight', 'encoders.camera.backbone.stages.2.blocks.0.attn.w_msa.qkv.bias', 'encoders.camera.backbone.stages.2.blocks.0.attn.w_msa.proj.weight', 'encoders.camera.backbone.stages.2.blocks.0.attn.w_msa.proj.bias', 'encoders.camera.backbone.stages.2.blocks.0.norm2.weight', 'encoders.camera.backbone.stages.2.blocks.0.norm2.bias', 'encoders.camera.backbone.stages.2.blocks.0.ffn.layers.0.0.weight', 'encoders.camera.backbone.stages.2.blocks.0.ffn.layers.0.0.bias', 'encoders.camera.backbone.stages.2.blocks.0.ffn.layers.1.weight', 'encoders.camera.backbone.stages.2.blocks.0.ffn.layers.1.bias', 'encoders.camera.backbone.stages.2.blocks.1.norm1.weight', 'encoders.camera.backbone.stages.2.blocks.1.norm1.bias', 'encoders.camera.backbone.stages.2.blocks.1.attn.w_msa.relative_position_bias_table', 'encoders.camera.backbone.stages.2.blocks.1.attn.w_msa.relative_position_index', 'encoders.camera.backbone.stages.2.blocks.1.attn.w_msa.qkv.weight', 'encoders.camera.backbone.stages.2.blocks.1.attn.w_msa.qkv.bias', 'encoders.camera.backbone.stages.2.blocks.1.attn.w_msa.proj.weight', 'encoders.camera.backbone.stages.2.blocks.1.attn.w_msa.proj.bias', 'encoders.camera.backbone.stages.2.blocks.1.norm2.weight', 'encoders.camera.backbone.stages.2.blocks.1.norm2.bias', 'encoders.camera.backbone.stages.2.blocks.1.ffn.layers.0.0.weight', 'encoders.camera.backbone.stages.2.blocks.1.ffn.layers.0.0.bias', 'encoders.camera.backbone.stages.2.blocks.1.ffn.layers.1.weight', 'encoders.camera.backbone.stages.2.blocks.1.ffn.layers.1.bias', 'encoders.camera.backbone.stages.2.blocks.2.norm1.weight', 'encoders.camera.backbone.stages.2.blocks.2.norm1.bias', 'encoders.camera.backbone.stages.2.blocks.2.attn.w_msa.relative_position_bias_table', 'encoders.camera.backbone.stages.2.blocks.2.attn.w_msa.relative_position_index', 'encoders.camera.backbone.stages.2.blocks.2.attn.w_msa.qkv.weight', 'encoders.camera.backbone.stages.2.blocks.2.attn.w_msa.qkv.bias', 'encoders.camera.backbone.stages.2.blocks.2.attn.w_msa.proj.weight', 'encoders.camera.backbone.stages.2.blocks.2.attn.w_msa.proj.bias', 'encoders.camera.backbone.stages.2.blocks.2.norm2.weight', 'encoders.camera.backbone.stages.2.blocks.2.norm2.bias', 'encoders.camera.backbone.stages.2.blocks.2.ffn.layers.0.0.weight', 'encoders.camera.backbone.stages.2.blocks.2.ffn.layers.0.0.bias', 'encoders.camera.backbone.stages.2.blocks.2.ffn.layers.1.weight', 'encoders.camera.backbone.stages.2.blocks.2.ffn.layers.1.bias', 'encoders.camera.backbone.stages.2.blocks.3.norm1.weight', 'encoders.camera.backbone.stages.2.blocks.3.norm1.bias', 'encoders.camera.backbone.stages.2.blocks.3.attn.w_msa.relative_position_bias_table', 'encoders.camera.backbone.stages.2.blocks.3.attn.w_msa.relative_position_index', 'encoders.camera.backbone.stages.2.blocks.3.attn.w_msa.qkv.weight', 'encoders.camera.backbone.stages.2.blocks.3.attn.w_msa.qkv.bias', 'encoders.camera.backbone.stages.2.blocks.3.attn.w_msa.proj.weight', 'encoders.camera.backbone.stages.2.blocks.3.attn.w_msa.proj.bias', 'encoders.camera.backbone.stages.2.blocks.3.norm2.weight', 'encoders.camera.backbone.stages.2.blocks.3.norm2.bias', 'encoders.camera.backbone.stages.2.blocks.3.ffn.layers.0.0.weight', 'encoders.camera.backbone.stages.2.blocks.3.ffn.layers.0.0.bias', 'encoders.camera.backbone.stages.2.blocks.3.ffn.layers.1.weight', 'encoders.camera.backbone.stages.2.blocks.3.ffn.layers.1.bias', 'encoders.camera.backbone.stages.2.blocks.4.norm1.weight', 'encoders.camera.backbone.stages.2.blocks.4.norm1.bias', 'encoders.camera.backbone.stages.2.blocks.4.attn.w_msa.relative_position_bias_table', 'encoders.camera.backbone.stages.2.blocks.4.attn.w_msa.relative_position_index', 'encoders.camera.backbone.stages.2.blocks.4.attn.w_msa.qkv.weight', 'encoders.camera.backbone.stages.2.blocks.4.attn.w_msa.qkv.bias', 'encoders.camera.backbone.stages.2.blocks.4.attn.w_msa.proj.weight', 'encoders.camera.backbone.stages.2.blocks.4.attn.w_msa.proj.bias', 'encoders.camera.backbone.stages.2.blocks.4.norm2.weight', 'encoders.camera.backbone.stages.2.blocks.4.norm2.bias', 'encoders.camera.backbone.stages.2.blocks.4.ffn.layers.0.0.weight', 'encoders.camera.backbone.stages.2.blocks.4.ffn.layers.0.0.bias', 'encoders.camera.backbone.stages.2.blocks.4.ffn.layers.1.weight', 'encoders.camera.backbone.stages.2.blocks.4.ffn.layers.1.bias', 'encoders.camera.backbone.stages.2.blocks.5.norm1.weight', 'encoders.camera.backbone.stages.2.blocks.5.norm1.bias', 'encoders.camera.backbone.stages.2.blocks.5.attn.w_msa.relative_position_bias_table', 'encoders.camera.backbone.stages.2.blocks.5.attn.w_msa.relative_position_index', 'encoders.camera.backbone.stages.2.blocks.5.attn.w_msa.qkv.weight', 'encoders.camera.backbone.stages.2.blocks.5.attn.w_msa.qkv.bias', 'encoders.camera.backbone.stages.2.blocks.5.attn.w_msa.proj.weight', 'encoders.camera.backbone.stages.2.blocks.5.attn.w_msa.proj.bias', 'encoders.camera.backbone.stages.2.blocks.5.norm2.weight', 'encoders.camera.backbone.stages.2.blocks.5.norm2.bias', 'encoders.camera.backbone.stages.2.blocks.5.ffn.layers.0.0.weight', 'encoders.camera.backbone.stages.2.blocks.5.ffn.layers.0.0.bias', 'encoders.camera.backbone.stages.2.blocks.5.ffn.layers.1.weight', 'encoders.camera.backbone.stages.2.blocks.5.ffn.layers.1.bias', 'encoders.camera.backbone.stages.2.downsample.norm.weight', 'encoders.camera.backbone.stages.2.downsample.norm.bias', 'encoders.camera.backbone.stages.2.downsample.reduction.weight', 'encoders.camera.backbone.stages.3.blocks.0.norm1.weight', 'encoders.camera.backbone.stages.3.blocks.0.norm1.bias', 'encoders.camera.backbone.stages.3.blocks.0.attn.w_msa.relative_position_bias_table', 'encoders.camera.backbone.stages.3.blocks.0.attn.w_msa.relative_position_index', 'encoders.camera.backbone.stages.3.blocks.0.attn.w_msa.qkv.weight', 'encoders.camera.backbone.stages.3.blocks.0.attn.w_msa.qkv.bias', 'encoders.camera.backbone.stages.3.blocks.0.attn.w_msa.proj.weight', 'encoders.camera.backbone.stages.3.blocks.0.attn.w_msa.proj.bias', 'encoders.camera.backbone.stages.3.blocks.0.norm2.weight', 'encoders.camera.backbone.stages.3.blocks.0.norm2.bias', 'encoders.camera.backbone.stages.3.blocks.0.ffn.layers.0.0.weight', 'encoders.camera.backbone.stages.3.blocks.0.ffn.layers.0.0.bias', 'encoders.camera.backbone.stages.3.blocks.0.ffn.layers.1.weight', 'encoders.camera.backbone.stages.3.blocks.0.ffn.layers.1.bias', 'encoders.camera.backbone.stages.3.blocks.1.norm1.weight', 'encoders.camera.backbone.stages.3.blocks.1.norm1.bias', 'encoders.camera.backbone.stages.3.blocks.1.attn.w_msa.relative_position_bias_table', 'encoders.camera.backbone.stages.3.blocks.1.attn.w_msa.relative_position_index', 'encoders.camera.backbone.stages.3.blocks.1.attn.w_msa.qkv.weight', 'encoders.camera.backbone.stages.3.blocks.1.attn.w_msa.qkv.bias', 'encoders.camera.backbone.stages.3.blocks.1.attn.w_msa.proj.weight', 'encoders.camera.backbone.stages.3.blocks.1.attn.w_msa.proj.bias', 'encoders.camera.backbone.stages.3.blocks.1.norm2.weight', 'encoders.camera.backbone.stages.3.blocks.1.norm2.bias', 'encoders.camera.backbone.stages.3.blocks.1.ffn.layers.0.0.weight', 'encoders.camera.backbone.stages.3.blocks.1.ffn.layers.0.0.bias', 'encoders.camera.backbone.stages.3.blocks.1.ffn.layers.1.weight', 'encoders.camera.backbone.stages.3.blocks.1.ffn.layers.1.bias', 'encoders.camera.backbone.norm1.weight', 'encoders.camera.backbone.norm1.bias', 'encoders.camera.backbone.norm2.weight', 'encoders.camera.backbone.norm2.bias', 'encoders.camera.backbone.norm3.weight', 'encoders.camera.backbone.norm3.bias', 'encoders.camera.neck.lateral_convs.0.conv.weight', 'encoders.camera.neck.lateral_convs.0.bn.weight', 'encoders.camera.neck.lateral_convs.0.bn.bias', 'encoders.camera.neck.lateral_convs.0.bn.running_mean', 'encoders.camera.neck.lateral_convs.0.bn.running_var', 'encoders.camera.neck.lateral_convs.0.bn.num_batches_tracked', 'encoders.camera.neck.lateral_convs.1.conv.weight', 'encoders.camera.neck.lateral_convs.1.bn.weight', 'encoders.camera.neck.lateral_convs.1.bn.bias', 'encoders.camera.neck.lateral_convs.1.bn.running_mean', 'encoders.camera.neck.lateral_convs.1.bn.running_var', 'encoders.camera.neck.lateral_convs.1.bn.num_batches_tracked', 'encoders.camera.neck.fpn_convs.0.conv.weight', 'encoders.camera.neck.fpn_convs.0.bn.weight', 'encoders.camera.neck.fpn_convs.0.bn.bias', 'encoders.camera.neck.fpn_convs.0.bn.running_mean', 'encoders.camera.neck.fpn_convs.0.bn.running_var', 'encoders.camera.neck.fpn_convs.0.bn.num_batches_tracked', 'encoders.camera.neck.fpn_convs.1.conv.weight', 'encoders.camera.neck.fpn_convs.1.bn.weight', 'encoders.camera.neck.fpn_convs.1.bn.bias', 'encoders.camera.neck.fpn_convs.1.bn.running_mean', 'encoders.camera.neck.fpn_convs.1.bn.running_var', 'encoders.camera.neck.fpn_convs.1.bn.num_batches_tracked', 'encoders.camera.vtransform.dx', 'encoders.camera.vtransform.bx', 'encoders.camera.vtransform.nx', 'encoders.camera.vtransform.frustum', 'encoders.camera.vtransform.dtransform.0.weight', 'encoders.camera.vtransform.dtransform.0.bias', 'encoders.camera.vtransform.dtransform.1.weight', 'encoders.camera.vtransform.dtransform.1.bias', 'encoders.camera.vtransform.dtransform.1.running_mean', 'encoders.camera.vtransform.dtransform.1.running_var', 'encoders.camera.vtransform.dtransform.1.num_batches_tracked', 'encoders.camera.vtransform.dtransform.3.weight', 'encoders.camera.vtransform.dtransform.3.bias', 'encoders.camera.vtransform.dtransform.4.weight', 'encoders.camera.vtransform.dtransform.4.bias', 'encoders.camera.vtransform.dtransform.4.running_mean', 'encoders.camera.vtransform.dtransform.4.running_var', 'encoders.camera.vtransform.dtransform.4.num_batches_tracked', 'encoders.camera.vtransform.dtransform.6.weight', 'encoders.camera.vtransform.dtransform.6.bias', 'encoders.camera.vtransform.dtransform.7.weight', 'encoders.camera.vtransform.dtransform.7.bias', 'encoders.camera.vtransform.dtransform.7.running_mean', 'encoders.camera.vtransform.dtransform.7.running_var', 'encoders.camera.vtransform.dtransform.7.num_batches_tracked', 'encoders.camera.vtransform.depth_map_transform.0.weight', 'encoders.camera.vtransform.depth_map_transform.0.bias', 'encoders.camera.vtransform.depth_map_transform.1.weight', 'encoders.camera.vtransform.depth_map_transform.1.bias', 'encoders.camera.vtransform.depth_map_transform.1.running_mean', 'encoders.camera.vtransform.depth_map_transform.1.running_var', 'encoders.camera.vtransform.depth_map_transform.1.num_batches_tracked', 'encoders.camera.vtransform.depth_map_transform.3.weight', 'encoders.camera.vtransform.depth_map_transform.3.bias', 'encoders.camera.vtransform.prenet.0.weight', 'encoders.camera.vtransform.prenet.0.bias', 'encoders.camera.vtransform.prenet.1.weight', 'encoders.camera.vtransform.prenet.1.bias', 'encoders.camera.vtransform.prenet.1.running_mean', 'encoders.camera.vtransform.prenet.1.running_var', 'encoders.camera.vtransform.prenet.1.num_batches_tracked', 'encoders.camera.vtransform.prenet.3.weight', 'encoders.camera.vtransform.prenet.3.bias', 'encoders.camera.vtransform.prenet.4.weight', 'encoders.camera.vtransform.prenet.4.bias', 'encoders.camera.vtransform.prenet.4.running_mean', 'encoders.camera.vtransform.prenet.4.running_var', 'encoders.camera.vtransform.prenet.4.num_batches_tracked', 'encoders.camera.vtransform.depthnet.weight', 'encoders.camera.vtransform.depthnet.bias', 'encoders.camera.vtransform.contextnet.weight', 'encoders.camera.vtransform.contextnet.bias', 'encoders.camera.vtransform.attention1.conv.weight', 'encoders.camera.vtransform.attention1.conv.bias', 'encoders.camera.vtransform.attention1.channel_attention.fc.0.weight', 'encoders.camera.vtransform.attention1.channel_attention.fc.0.bias', 'encoders.camera.vtransform.attention1.channel_attention.fc.2.weight', 'encoders.camera.vtransform.attention1.channel_attention.fc.2.bias', 'encoders.camera.vtransform.convnet.0.weight', 'encoders.camera.vtransform.convnet.0.bias', 'encoders.camera.vtransform.convnet.1.weight', 'encoders.camera.vtransform.convnet.1.bias', 'encoders.camera.vtransform.convnet.1.running_mean', 'encoders.camera.vtransform.convnet.1.running_var', 'encoders.camera.vtransform.convnet.1.num_batches_tracked', 'encoders.camera.vtransform.convnet.3.weight', 'encoders.camera.vtransform.convnet.3.bias', 'encoders.camera.vtransform.convnet.4.weight', 'encoders.camera.vtransform.convnet.4.bias', 'encoders.camera.vtransform.convnet.4.running_mean', 'encoders.camera.vtransform.convnet.4.running_var', 'encoders.camera.vtransform.convnet.4.num_batches_tracked', 'encoders.camera.vtransform.downsample.0.weight', 'encoders.camera.vtransform.downsample.1.weight', 'encoders.camera.vtransform.downsample.1.bias', 'encoders.camera.vtransform.downsample.1.running_mean', 'encoders.camera.vtransform.downsample.1.running_var', 'encoders.camera.vtransform.downsample.1.num_batches_tracked', 'encoders.camera.vtransform.downsample.3.weight', 'encoders.camera.vtransform.downsample.4.weight', 'encoders.camera.vtransform.downsample.4.bias', 'encoders.camera.vtransform.downsample.4.running_mean', 'encoders.camera.vtransform.downsample.4.running_var', 'encoders.camera.vtransform.downsample.4.num_batches_tracked', 'encoders.camera.vtransform.downsample.6.weight', 'encoders.camera.vtransform.downsample.7.weight', 'encoders.camera.vtransform.downsample.7.bias', 'encoders.camera.vtransform.downsample.7.running_mean', 'encoders.camera.vtransform.downsample.7.running_var', 'encoders.camera.vtransform.downsample.7.num_batches_tracked', 'encoders.lidar.backbone.conv_input.0.weight', 'encoders.lidar.backbone.conv_input.1.weight', 'encoders.lidar.backbone.conv_input.1.bias', 'encoders.lidar.backbone.conv_input.1.running_mean', 'encoders.lidar.backbone.conv_input.1.running_var', 'encoders.lidar.backbone.conv_input.1.num_batches_tracked', 'encoders.lidar.backbone.encoder_layers.encoder_layer1.0.conv1.weight', 'encoders.lidar.backbone.encoder_layers.encoder_layer1.0.bn1.weight', 'encoders.lidar.backbone.encoder_layers.encoder_layer1.0.bn1.bias', 'encoders.lidar.backbone.encoder_layers.encoder_layer1.0.bn1.running_mean', 'encoders.lidar.backbone.encoder_layers.encoder_layer1.0.bn1.running_var', 'encoders.lidar.backbone.encoder_layers.encoder_layer1.0.bn1.num_batches_tracked', 'encoders.lidar.backbone.encoder_layers.encoder_layer1.0.conv2.weight', 'encoders.lidar.backbone.encoder_layers.encoder_layer1.0.bn2.weight', 'encoders.lidar.backbone.encoder_layers.encoder_layer1.0.bn2.bias', 'encoders.lidar.backbone.encoder_layers.encoder_layer1.0.bn2.running_mean', 'encoders.lidar.backbone.encoder_layers.encoder_layer1.0.bn2.running_var', 'encoders.lidar.backbone.encoder_layers.encoder_layer1.0.bn2.num_batches_tracked', 'encoders.lidar.backbone.encoder_layers.encoder_layer1.1.conv1.weight', 'encoders.lidar.backbone.encoder_layers.encoder_layer1.1.bn1.weight', 'encoders.lidar.backbone.encoder_layers.encoder_layer1.1.bn1.bias', 'encoders.lidar.backbone.encoder_layers.encoder_layer1.1.bn1.running_mean', 'encoders.lidar.backbone.encoder_layers.encoder_layer1.1.bn1.running_var', 'encoders.lidar.backbone.encoder_layers.encoder_layer1.1.bn1.num_batches_tracked', 'encoders.lidar.backbone.encoder_layers.encoder_layer1.1.conv2.weight', 'encoders.lidar.backbone.encoder_layers.encoder_layer1.1.bn2.weight', 'encoders.lidar.backbone.encoder_layers.encoder_layer1.1.bn2.bias', 'encoders.lidar.backbone.encoder_layers.encoder_layer1.1.bn2.running_mean', 'encoders.lidar.backbone.encoder_layers.encoder_layer1.1.bn2.running_var', 'encoders.lidar.backbone.encoder_layers.encoder_layer1.1.bn2.num_batches_tracked', 'encoders.lidar.backbone.encoder_layers.encoder_layer1.2.0.weight', 'encoders.lidar.backbone.encoder_layers.encoder_layer1.2.1.weight', 'encoders.lidar.backbone.encoder_layers.encoder_layer1.2.1.bias', 'encoders.lidar.backbone.encoder_layers.encoder_layer1.2.1.running_mean', 'encoders.lidar.backbone.encoder_layers.encoder_layer1.2.1.running_var', 'encoders.lidar.backbone.encoder_layers.encoder_layer1.2.1.num_batches_tracked', 'encoders.lidar.backbone.encoder_layers.encoder_layer2.0.conv1.weight', 'encoders.lidar.backbone.encoder_layers.encoder_layer2.0.bn1.weight', 'encoders.lidar.backbone.encoder_layers.encoder_layer2.0.bn1.bias', 'encoders.lidar.backbone.encoder_layers.encoder_layer2.0.bn1.running_mean', 'encoders.lidar.backbone.encoder_layers.encoder_layer2.0.bn1.running_var', 'encoders.lidar.backbone.encoder_layers.encoder_layer2.0.bn1.num_batches_tracked', 'encoders.lidar.backbone.encoder_layers.encoder_layer2.0.conv2.weight', 'encoders.lidar.backbone.encoder_layers.encoder_layer2.0.bn2.weight', 'encoders.lidar.backbone.encoder_layers.encoder_layer2.0.bn2.bias', 'encoders.lidar.backbone.encoder_layers.encoder_layer2.0.bn2.running_mean', 'encoders.lidar.backbone.encoder_layers.encoder_layer2.0.bn2.running_var', 'encoders.lidar.backbone.encoder_layers.encoder_layer2.0.bn2.num_batches_tracked', 'encoders.lidar.backbone.encoder_layers.encoder_layer2.1.conv1.weight', 'encoders.lidar.backbone.encoder_layers.encoder_layer2.1.bn1.weight', 'encoders.lidar.backbone.encoder_layers.encoder_layer2.1.bn1.bias', 'encoders.lidar.backbone.encoder_layers.encoder_layer2.1.bn1.running_mean', 'encoders.lidar.backbone.encoder_layers.encoder_layer2.1.bn1.running_var', 'encoders.lidar.backbone.encoder_layers.encoder_layer2.1.bn1.num_batches_tracked', 'encoders.lidar.backbone.encoder_layers.encoder_layer2.1.conv2.weight', 'encoders.lidar.backbone.encoder_layers.encoder_layer2.1.bn2.weight', 'encoders.lidar.backbone.encoder_layers.encoder_layer2.1.bn2.bias', 'encoders.lidar.backbone.encoder_layers.encoder_layer2.1.bn2.running_mean', 'encoders.lidar.backbone.encoder_layers.encoder_layer2.1.bn2.running_var', 'encoders.lidar.backbone.encoder_layers.encoder_layer2.1.bn2.num_batches_tracked', 'encoders.lidar.backbone.encoder_layers.encoder_layer2.2.0.weight', 'encoders.lidar.backbone.encoder_layers.encoder_layer2.2.1.weight', 'encoders.lidar.backbone.encoder_layers.encoder_layer2.2.1.bias', 'encoders.lidar.backbone.encoder_layers.encoder_layer2.2.1.running_mean', 'encoders.lidar.backbone.encoder_layers.encoder_layer2.2.1.running_var', 'encoders.lidar.backbone.encoder_layers.encoder_layer2.2.1.num_batches_tracked', 'encoders.lidar.backbone.encoder_layers.encoder_layer3.0.conv1.weight', 'encoders.lidar.backbone.encoder_layers.encoder_layer3.0.bn1.weight', 'encoders.lidar.backbone.encoder_layers.encoder_layer3.0.bn1.bias', 'encoders.lidar.backbone.encoder_layers.encoder_layer3.0.bn1.running_mean', 'encoders.lidar.backbone.encoder_layers.encoder_layer3.0.bn1.running_var', 'encoders.lidar.backbone.encoder_layers.encoder_layer3.0.bn1.num_batches_tracked', 'encoders.lidar.backbone.encoder_layers.encoder_layer3.0.conv2.weight', 'encoders.lidar.backbone.encoder_layers.encoder_layer3.0.bn2.weight', 'encoders.lidar.backbone.encoder_layers.encoder_layer3.0.bn2.bias', 'encoders.lidar.backbone.encoder_layers.encoder_layer3.0.bn2.running_mean', 'encoders.lidar.backbone.encoder_layers.encoder_layer3.0.bn2.running_var', 'encoders.lidar.backbone.encoder_layers.encoder_layer3.0.bn2.num_batches_tracked', 'encoders.lidar.backbone.encoder_layers.encoder_layer3.1.conv1.weight', 'encoders.lidar.backbone.encoder_layers.encoder_layer3.1.bn1.weight', 'encoders.lidar.backbone.encoder_layers.encoder_layer3.1.bn1.bias', 'encoders.lidar.backbone.encoder_layers.encoder_layer3.1.bn1.running_mean', 'encoders.lidar.backbone.encoder_layers.encoder_layer3.1.bn1.running_var', 'encoders.lidar.backbone.encoder_layers.encoder_layer3.1.bn1.num_batches_tracked', 'encoders.lidar.backbone.encoder_layers.encoder_layer3.1.conv2.weight', 'encoders.lidar.backbone.encoder_layers.encoder_layer3.1.bn2.weight', 'encoders.lidar.backbone.encoder_layers.encoder_layer3.1.bn2.bias', 'encoders.lidar.backbone.encoder_layers.encoder_layer3.1.bn2.running_mean', 'encoders.lidar.backbone.encoder_layers.encoder_layer3.1.bn2.running_var', 'encoders.lidar.backbone.encoder_layers.encoder_layer3.1.bn2.num_batches_tracked', 'encoders.lidar.backbone.encoder_layers.encoder_layer3.2.0.weight', 'encoders.lidar.backbone.encoder_layers.encoder_layer3.2.1.weight', 'encoders.lidar.backbone.encoder_layers.encoder_layer3.2.1.bias', 'encoders.lidar.backbone.encoder_layers.encoder_layer3.2.1.running_mean', 'encoders.lidar.backbone.encoder_layers.encoder_layer3.2.1.running_var', 'encoders.lidar.backbone.encoder_layers.encoder_layer3.2.1.num_batches_tracked', 'encoders.lidar.backbone.encoder_layers.encoder_layer4.0.conv1.weight', 'encoders.lidar.backbone.encoder_layers.encoder_layer4.0.bn1.weight', 'encoders.lidar.backbone.encoder_layers.encoder_layer4.0.bn1.bias', 'encoders.lidar.backbone.encoder_layers.encoder_layer4.0.bn1.running_mean', 'encoders.lidar.backbone.encoder_layers.encoder_layer4.0.bn1.running_var', 'encoders.lidar.backbone.encoder_layers.encoder_layer4.0.bn1.num_batches_tracked', 'encoders.lidar.backbone.encoder_layers.encoder_layer4.0.conv2.weight', 'encoders.lidar.backbone.encoder_layers.encoder_layer4.0.bn2.weight', 'encoders.lidar.backbone.encoder_layers.encoder_layer4.0.bn2.bias', 'encoders.lidar.backbone.encoder_layers.encoder_layer4.0.bn2.running_mean', 'encoders.lidar.backbone.encoder_layers.encoder_layer4.0.bn2.running_var', 'encoders.lidar.backbone.encoder_layers.encoder_layer4.0.bn2.num_batches_tracked', 'encoders.lidar.backbone.encoder_layers.encoder_layer4.1.conv1.weight', 'encoders.lidar.backbone.encoder_layers.encoder_layer4.1.bn1.weight', 'encoders.lidar.backbone.encoder_layers.encoder_layer4.1.bn1.bias', 'encoders.lidar.backbone.encoder_layers.encoder_layer4.1.bn1.running_mean', 'encoders.lidar.backbone.encoder_layers.encoder_layer4.1.bn1.running_var', 'encoders.lidar.backbone.encoder_layers.encoder_layer4.1.bn1.num_batches_tracked', 'encoders.lidar.backbone.encoder_layers.encoder_layer4.1.conv2.weight', 'encoders.lidar.backbone.encoder_layers.encoder_layer4.1.bn2.weight', 'encoders.lidar.backbone.encoder_layers.encoder_layer4.1.bn2.bias', 'encoders.lidar.backbone.encoder_layers.encoder_layer4.1.bn2.running_mean', 'encoders.lidar.backbone.encoder_layers.encoder_layer4.1.bn2.running_var', 'encoders.lidar.backbone.encoder_layers.encoder_layer4.1.bn2.num_batches_tracked', 'encoders.lidar.backbone.conv_out.0.weight', 'encoders.lidar.backbone.conv_out.1.weight', 'encoders.lidar.backbone.conv_out.1.bias', 'encoders.lidar.backbone.conv_out.1.running_mean', 'encoders.lidar.backbone.conv_out.1.running_var', 'encoders.lidar.backbone.conv_out.1.num_batches_tracked', 'fuser.0.weight', 'fuser.1.weight', 'fuser.1.bias', 'fuser.1.running_mean', 'fuser.1.running_var', 'fuser.1.num_batches_tracked', 'decoder.backbone.blocks.0.0.weight', 'decoder.backbone.blocks.0.1.weight', 'decoder.backbone.blocks.0.1.bias', 'decoder.backbone.blocks.0.1.running_mean', 'decoder.backbone.blocks.0.1.running_var', 'decoder.backbone.blocks.0.1.num_batches_tracked', 'decoder.backbone.blocks.0.3.weight', 'decoder.backbone.blocks.0.4.weight', 'decoder.backbone.blocks.0.4.bias', 'decoder.backbone.blocks.0.4.running_mean', 'decoder.backbone.blocks.0.4.running_var', 'decoder.backbone.blocks.0.4.num_batches_tracked', 'decoder.backbone.blocks.0.6.weight', 'decoder.backbone.blocks.0.7.weight', 'decoder.backbone.blocks.0.7.bias', 'decoder.backbone.blocks.0.7.running_mean', 'decoder.backbone.blocks.0.7.running_var', 'decoder.backbone.blocks.0.7.num_batches_tracked', 'decoder.backbone.blocks.0.9.weight', 'decoder.backbone.blocks.0.10.weight', 'decoder.backbone.blocks.0.10.bias', 'decoder.backbone.blocks.0.10.running_mean', 'decoder.backbone.blocks.0.10.running_var', 'decoder.backbone.blocks.0.10.num_batches_tracked', 'decoder.backbone.blocks.0.12.weight', 'decoder.backbone.blocks.0.13.weight', 'decoder.backbone.blocks.0.13.bias', 'decoder.backbone.blocks.0.13.running_mean', 'decoder.backbone.blocks.0.13.running_var', 'decoder.backbone.blocks.0.13.num_batches_tracked', 'decoder.backbone.blocks.0.15.weight', 'decoder.backbone.blocks.0.16.weight', 'decoder.backbone.blocks.0.16.bias', 'decoder.backbone.blocks.0.16.running_mean', 'decoder.backbone.blocks.0.16.running_var', 'decoder.backbone.blocks.0.16.num_batches_tracked', 'decoder.backbone.blocks.1.0.weight', 'decoder.backbone.blocks.1.1.weight', 'decoder.backbone.blocks.1.1.bias', 'decoder.backbone.blocks.1.1.running_mean', 'decoder.backbone.blocks.1.1.running_var', 'decoder.backbone.blocks.1.1.num_batches_tracked', 'decoder.backbone.blocks.1.3.weight', 'decoder.backbone.blocks.1.4.weight', 'decoder.backbone.blocks.1.4.bias', 'decoder.backbone.blocks.1.4.running_mean', 'decoder.backbone.blocks.1.4.running_var', 'decoder.backbone.blocks.1.4.num_batches_tracked', 'decoder.backbone.blocks.1.6.weight', 'decoder.backbone.blocks.1.7.weight', 'decoder.backbone.blocks.1.7.bias', 'decoder.backbone.blocks.1.7.running_mean', 'decoder.backbone.blocks.1.7.running_var', 'decoder.backbone.blocks.1.7.num_batches_tracked', 'decoder.backbone.blocks.1.9.weight', 'decoder.backbone.blocks.1.10.weight', 'decoder.backbone.blocks.1.10.bias', 'decoder.backbone.blocks.1.10.running_mean', 'decoder.backbone.blocks.1.10.running_var', 'decoder.backbone.blocks.1.10.num_batches_tracked', 'decoder.backbone.blocks.1.12.weight', 'decoder.backbone.blocks.1.13.weight', 'decoder.backbone.blocks.1.13.bias', 'decoder.backbone.blocks.1.13.running_mean', 'decoder.backbone.blocks.1.13.running_var', 'decoder.backbone.blocks.1.13.num_batches_tracked', 'decoder.backbone.blocks.1.15.weight', 'decoder.backbone.blocks.1.16.weight', 'decoder.backbone.blocks.1.16.bias', 'decoder.backbone.blocks.1.16.running_mean', 'decoder.backbone.blocks.1.16.running_var', 'decoder.backbone.blocks.1.16.num_batches_tracked', 'decoder.neck.deblocks.0.0.weight', 'decoder.neck.deblocks.0.1.weight', 'decoder.neck.deblocks.0.1.bias', 'decoder.neck.deblocks.0.1.running_mean', 'decoder.neck.deblocks.0.1.running_var', 'decoder.neck.deblocks.0.1.num_batches_tracked', 'decoder.neck.deblocks.1.0.weight', 'decoder.neck.deblocks.1.1.weight', 'decoder.neck.deblocks.1.1.bias', 'decoder.neck.deblocks.1.1.running_mean', 'decoder.neck.deblocks.1.1.running_var', 'decoder.neck.deblocks.1.1.num_batches_tracked', 'heads.map.classifier.0.weight', 'heads.map.classifier.1.weight', 'heads.map.classifier.1.bias', 'heads.map.classifier.1.running_mean', 'heads.map.classifier.1.running_var', 'heads.map.classifier.1.num_batches_tracked', 'heads.map.classifier.3.weight', 'heads.map.classifier.4.weight', 'heads.map.classifier.4.bias', 'heads.map.classifier.4.running_mean', 'heads.map.classifier.4.running_var', 'heads.map.classifier.4.num_batches_tracked', 'heads.map.classifier.6.weight', 'heads.map.classifier.6.bias', 'heads.object.shared_conv.weight', 'heads.object.shared_conv.bias', 'heads.object.heatmap_head.0.conv.weight', 'heads.object.heatmap_head.0.bn.weight', 'heads.object.heatmap_head.0.bn.bias', 'heads.object.heatmap_head.0.bn.running_mean', 'heads.object.heatmap_head.0.bn.running_var', 'heads.object.heatmap_head.0.bn.num_batches_tracked', 'heads.object.heatmap_head.1.weight', 'heads.object.heatmap_head.1.bias', 'heads.object.class_encoding.weight', 'heads.object.class_encoding.bias', 'heads.object.decoder.0.self_attn.in_proj_weight', 'heads.object.decoder.0.self_attn.in_proj_bias', 'heads.object.decoder.0.self_attn.out_proj.weight', 'heads.object.decoder.0.self_attn.out_proj.bias', 'heads.object.decoder.0.multihead_attn.in_proj_weight', 'heads.object.decoder.0.multihead_attn.in_proj_bias', 'heads.object.decoder.0.multihead_attn.out_proj.weight', 'heads.object.decoder.0.multihead_attn.out_proj.bias', 'heads.object.decoder.0.linear1.weight', 'heads.object.decoder.0.linear1.bias', 'heads.object.decoder.0.linear2.weight', 'heads.object.decoder.0.linear2.bias', 'heads.object.decoder.0.norm1.weight', 'heads.object.decoder.0.norm1.bias', 'heads.object.decoder.0.norm2.weight', 'heads.object.decoder.0.norm2.bias', 'heads.object.decoder.0.norm3.weight', 'heads.object.decoder.0.norm3.bias', 'heads.object.decoder.0.self_posembed.position_embedding_head.0.weight', 'heads.object.decoder.0.self_posembed.position_embedding_head.0.bias', 'heads.object.decoder.0.self_posembed.position_embedding_head.1.weight', 'heads.object.decoder.0.self_posembed.position_embedding_head.1.bias', 'heads.object.decoder.0.self_posembed.position_embedding_head.1.running_mean', 'heads.object.decoder.0.self_posembed.position_embedding_head.1.running_var', 'heads.object.decoder.0.self_posembed.position_embedding_head.1.num_batches_tracked', 'heads.object.decoder.0.self_posembed.position_embedding_head.3.weight', 'heads.object.decoder.0.self_posembed.position_embedding_head.3.bias', 'heads.object.decoder.0.cross_posembed.position_embedding_head.0.weight', 'heads.object.decoder.0.cross_posembed.position_embedding_head.0.bias', 'heads.object.decoder.0.cross_posembed.position_embedding_head.1.weight', 'heads.object.decoder.0.cross_posembed.position_embedding_head.1.bias', 'heads.object.decoder.0.cross_posembed.position_embedding_head.1.running_mean', 'heads.object.decoder.0.cross_posembed.position_embedding_head.1.running_var', 'heads.object.decoder.0.cross_posembed.position_embedding_head.1.num_batches_tracked', 'heads.object.decoder.0.cross_posembed.position_embedding_head.3.weight', 'heads.object.decoder.0.cross_posembed.position_embedding_head.3.bias', 'heads.object.prediction_heads.0.center.0.conv.weight', 'heads.object.prediction_heads.0.center.0.bn.weight', 'heads.object.prediction_heads.0.center.0.bn.bias', 'heads.object.prediction_heads.0.center.0.bn.running_mean', 'heads.object.prediction_heads.0.center.0.bn.running_var', 'heads.object.prediction_heads.0.center.0.bn.num_batches_tracked', 'heads.object.prediction_heads.0.center.1.weight', 'heads.object.prediction_heads.0.center.1.bias', 'heads.object.prediction_heads.0.height.0.conv.weight', 'heads.object.prediction_heads.0.height.0.bn.weight', 'heads.object.prediction_heads.0.height.0.bn.bias', 'heads.object.prediction_heads.0.height.0.bn.running_mean', 'heads.object.prediction_heads.0.height.0.bn.running_var', 'heads.object.prediction_heads.0.height.0.bn.num_batches_tracked', 'heads.object.prediction_heads.0.height.1.weight', 'heads.object.prediction_heads.0.height.1.bias', 'heads.object.prediction_heads.0.dim.0.conv.weight', 'heads.object.prediction_heads.0.dim.0.bn.weight', 'heads.object.prediction_heads.0.dim.0.bn.bias', 'heads.object.prediction_heads.0.dim.0.bn.running_mean', 'heads.object.prediction_heads.0.dim.0.bn.running_var', 'heads.object.prediction_heads.0.dim.0.bn.num_batches_tracked', 'heads.object.prediction_heads.0.dim.1.weight', 'heads.object.prediction_heads.0.dim.1.bias', 'heads.object.prediction_heads.0.rot.0.conv.weight', 'heads.object.prediction_heads.0.rot.0.bn.weight', 'heads.object.prediction_heads.0.rot.0.bn.bias', 'heads.object.prediction_heads.0.rot.0.bn.running_mean', 'heads.object.prediction_heads.0.rot.0.bn.running_var', 'heads.object.prediction_heads.0.rot.0.bn.num_batches_tracked', 'heads.object.prediction_heads.0.rot.1.weight', 'heads.object.prediction_heads.0.rot.1.bias', 'heads.object.prediction_heads.0.vel.0.conv.weight', 'heads.object.prediction_heads.0.vel.0.bn.weight', 'heads.object.prediction_heads.0.vel.0.bn.bias', 'heads.object.prediction_heads.0.vel.0.bn.running_mean', 'heads.object.prediction_heads.0.vel.0.bn.running_var', 'heads.object.prediction_heads.0.vel.0.bn.num_batches_tracked', 'heads.object.prediction_heads.0.vel.1.weight', 'heads.object.prediction_heads.0.vel.1.bias', 'heads.object.prediction_heads.0.heatmap.0.conv.weight', 'heads.object.prediction_heads.0.heatmap.0.bn.weight', 'heads.object.prediction_heads.0.heatmap.0.bn.bias', 'heads.object.prediction_heads.0.heatmap.0.bn.running_mean', 'heads.object.prediction_heads.0.heatmap.0.bn.running_var', 'heads.object.prediction_heads.0.heatmap.0.bn.num_batches_tracked', 'heads.object.prediction_heads.0.heatmap.1.weight', 'heads.object.prediction_heads.0.heatmap.1.bias'])"
      ]
     },
     "execution_count": 5,
     "metadata": {},
     "output_type": "execute_result"
    }
   ],
   "source": [
    "multi_pth['state_dict'].keys()"
   ]
  },
  {
   "cell_type": "code",
   "execution_count": 6,
   "id": "61869572",
   "metadata": {},
   "outputs": [
    {
     "data": {
      "text/plain": [
       "dict_keys(['fp16', 'hook_msgs', 'epoch', 'iter', 'mmcv_version', 'time'])"
      ]
     },
     "execution_count": 6,
     "metadata": {},
     "output_type": "execute_result"
    }
   ],
   "source": [
    "multi_pth['meta'].keys()"
   ]
  },
  {
   "cell_type": "code",
   "execution_count": 7,
   "id": "b652fae1",
   "metadata": {},
   "outputs": [
    {
     "data": {
      "text/plain": [
       "dict_keys(['state', 'param_groups'])"
      ]
     },
     "execution_count": 7,
     "metadata": {},
     "output_type": "execute_result"
    }
   ],
   "source": [
    "multi_pth['optimizer'].keys()"
   ]
  },
  {
   "cell_type": "code",
   "execution_count": 8,
   "id": "accf1686",
   "metadata": {},
   "outputs": [
    {
     "data": {
      "text/plain": [
       "torch.Size([96, 3, 4, 4])"
      ]
     },
     "execution_count": 8,
     "metadata": {},
     "output_type": "execute_result"
    }
   ],
   "source": [
    "multi_pth['state_dict']['encoders.camera.backbone.patch_embed.projection.weight'].shape"
   ]
  },
  {
   "cell_type": "code",
   "execution_count": 9,
   "id": "88973b23",
   "metadata": {},
   "outputs": [],
   "source": [
    "multi_key=multi_pth['state_dict'].keys()"
   ]
  },
  {
   "cell_type": "code",
   "execution_count": 10,
   "id": "6480d330",
   "metadata": {},
   "outputs": [],
   "source": [
    "seg_pth=torch.load(seg_filepath)"
   ]
  },
  {
   "cell_type": "code",
   "execution_count": 11,
   "id": "c3b71e13",
   "metadata": {},
   "outputs": [],
   "source": [
    "seg_key=seg_pth['state_dict'].keys()"
   ]
  },
  {
   "cell_type": "code",
   "execution_count": 12,
   "id": "eb7def1f",
   "metadata": {},
   "outputs": [
    {
     "data": {
      "text/plain": [
       "False"
      ]
     },
     "execution_count": 12,
     "metadata": {},
     "output_type": "execute_result"
    }
   ],
   "source": [
    "multi_key==seg_key"
   ]
  },
  {
   "cell_type": "code",
   "execution_count": 13,
   "id": "a5905e15",
   "metadata": {},
   "outputs": [
    {
     "data": {
      "text/plain": [
       "set()"
      ]
     },
     "execution_count": 13,
     "metadata": {},
     "output_type": "execute_result"
    }
   ],
   "source": [
    "seg_key-multi_key"
   ]
  },
  {
   "cell_type": "code",
   "execution_count": 14,
   "id": "7320a44e",
   "metadata": {},
   "outputs": [
    {
     "data": {
      "text/plain": [
       "{'heads.object.class_encoding.bias',\n",
       " 'heads.object.class_encoding.weight',\n",
       " 'heads.object.decoder.0.cross_posembed.position_embedding_head.0.bias',\n",
       " 'heads.object.decoder.0.cross_posembed.position_embedding_head.0.weight',\n",
       " 'heads.object.decoder.0.cross_posembed.position_embedding_head.1.bias',\n",
       " 'heads.object.decoder.0.cross_posembed.position_embedding_head.1.num_batches_tracked',\n",
       " 'heads.object.decoder.0.cross_posembed.position_embedding_head.1.running_mean',\n",
       " 'heads.object.decoder.0.cross_posembed.position_embedding_head.1.running_var',\n",
       " 'heads.object.decoder.0.cross_posembed.position_embedding_head.1.weight',\n",
       " 'heads.object.decoder.0.cross_posembed.position_embedding_head.3.bias',\n",
       " 'heads.object.decoder.0.cross_posembed.position_embedding_head.3.weight',\n",
       " 'heads.object.decoder.0.linear1.bias',\n",
       " 'heads.object.decoder.0.linear1.weight',\n",
       " 'heads.object.decoder.0.linear2.bias',\n",
       " 'heads.object.decoder.0.linear2.weight',\n",
       " 'heads.object.decoder.0.multihead_attn.in_proj_bias',\n",
       " 'heads.object.decoder.0.multihead_attn.in_proj_weight',\n",
       " 'heads.object.decoder.0.multihead_attn.out_proj.bias',\n",
       " 'heads.object.decoder.0.multihead_attn.out_proj.weight',\n",
       " 'heads.object.decoder.0.norm1.bias',\n",
       " 'heads.object.decoder.0.norm1.weight',\n",
       " 'heads.object.decoder.0.norm2.bias',\n",
       " 'heads.object.decoder.0.norm2.weight',\n",
       " 'heads.object.decoder.0.norm3.bias',\n",
       " 'heads.object.decoder.0.norm3.weight',\n",
       " 'heads.object.decoder.0.self_attn.in_proj_bias',\n",
       " 'heads.object.decoder.0.self_attn.in_proj_weight',\n",
       " 'heads.object.decoder.0.self_attn.out_proj.bias',\n",
       " 'heads.object.decoder.0.self_attn.out_proj.weight',\n",
       " 'heads.object.decoder.0.self_posembed.position_embedding_head.0.bias',\n",
       " 'heads.object.decoder.0.self_posembed.position_embedding_head.0.weight',\n",
       " 'heads.object.decoder.0.self_posembed.position_embedding_head.1.bias',\n",
       " 'heads.object.decoder.0.self_posembed.position_embedding_head.1.num_batches_tracked',\n",
       " 'heads.object.decoder.0.self_posembed.position_embedding_head.1.running_mean',\n",
       " 'heads.object.decoder.0.self_posembed.position_embedding_head.1.running_var',\n",
       " 'heads.object.decoder.0.self_posembed.position_embedding_head.1.weight',\n",
       " 'heads.object.decoder.0.self_posembed.position_embedding_head.3.bias',\n",
       " 'heads.object.decoder.0.self_posembed.position_embedding_head.3.weight',\n",
       " 'heads.object.heatmap_head.0.bn.bias',\n",
       " 'heads.object.heatmap_head.0.bn.num_batches_tracked',\n",
       " 'heads.object.heatmap_head.0.bn.running_mean',\n",
       " 'heads.object.heatmap_head.0.bn.running_var',\n",
       " 'heads.object.heatmap_head.0.bn.weight',\n",
       " 'heads.object.heatmap_head.0.conv.weight',\n",
       " 'heads.object.heatmap_head.1.bias',\n",
       " 'heads.object.heatmap_head.1.weight',\n",
       " 'heads.object.prediction_heads.0.center.0.bn.bias',\n",
       " 'heads.object.prediction_heads.0.center.0.bn.num_batches_tracked',\n",
       " 'heads.object.prediction_heads.0.center.0.bn.running_mean',\n",
       " 'heads.object.prediction_heads.0.center.0.bn.running_var',\n",
       " 'heads.object.prediction_heads.0.center.0.bn.weight',\n",
       " 'heads.object.prediction_heads.0.center.0.conv.weight',\n",
       " 'heads.object.prediction_heads.0.center.1.bias',\n",
       " 'heads.object.prediction_heads.0.center.1.weight',\n",
       " 'heads.object.prediction_heads.0.dim.0.bn.bias',\n",
       " 'heads.object.prediction_heads.0.dim.0.bn.num_batches_tracked',\n",
       " 'heads.object.prediction_heads.0.dim.0.bn.running_mean',\n",
       " 'heads.object.prediction_heads.0.dim.0.bn.running_var',\n",
       " 'heads.object.prediction_heads.0.dim.0.bn.weight',\n",
       " 'heads.object.prediction_heads.0.dim.0.conv.weight',\n",
       " 'heads.object.prediction_heads.0.dim.1.bias',\n",
       " 'heads.object.prediction_heads.0.dim.1.weight',\n",
       " 'heads.object.prediction_heads.0.heatmap.0.bn.bias',\n",
       " 'heads.object.prediction_heads.0.heatmap.0.bn.num_batches_tracked',\n",
       " 'heads.object.prediction_heads.0.heatmap.0.bn.running_mean',\n",
       " 'heads.object.prediction_heads.0.heatmap.0.bn.running_var',\n",
       " 'heads.object.prediction_heads.0.heatmap.0.bn.weight',\n",
       " 'heads.object.prediction_heads.0.heatmap.0.conv.weight',\n",
       " 'heads.object.prediction_heads.0.heatmap.1.bias',\n",
       " 'heads.object.prediction_heads.0.heatmap.1.weight',\n",
       " 'heads.object.prediction_heads.0.height.0.bn.bias',\n",
       " 'heads.object.prediction_heads.0.height.0.bn.num_batches_tracked',\n",
       " 'heads.object.prediction_heads.0.height.0.bn.running_mean',\n",
       " 'heads.object.prediction_heads.0.height.0.bn.running_var',\n",
       " 'heads.object.prediction_heads.0.height.0.bn.weight',\n",
       " 'heads.object.prediction_heads.0.height.0.conv.weight',\n",
       " 'heads.object.prediction_heads.0.height.1.bias',\n",
       " 'heads.object.prediction_heads.0.height.1.weight',\n",
       " 'heads.object.prediction_heads.0.rot.0.bn.bias',\n",
       " 'heads.object.prediction_heads.0.rot.0.bn.num_batches_tracked',\n",
       " 'heads.object.prediction_heads.0.rot.0.bn.running_mean',\n",
       " 'heads.object.prediction_heads.0.rot.0.bn.running_var',\n",
       " 'heads.object.prediction_heads.0.rot.0.bn.weight',\n",
       " 'heads.object.prediction_heads.0.rot.0.conv.weight',\n",
       " 'heads.object.prediction_heads.0.rot.1.bias',\n",
       " 'heads.object.prediction_heads.0.rot.1.weight',\n",
       " 'heads.object.prediction_heads.0.vel.0.bn.bias',\n",
       " 'heads.object.prediction_heads.0.vel.0.bn.num_batches_tracked',\n",
       " 'heads.object.prediction_heads.0.vel.0.bn.running_mean',\n",
       " 'heads.object.prediction_heads.0.vel.0.bn.running_var',\n",
       " 'heads.object.prediction_heads.0.vel.0.bn.weight',\n",
       " 'heads.object.prediction_heads.0.vel.0.conv.weight',\n",
       " 'heads.object.prediction_heads.0.vel.1.bias',\n",
       " 'heads.object.prediction_heads.0.vel.1.weight',\n",
       " 'heads.object.shared_conv.bias',\n",
       " 'heads.object.shared_conv.weight'}"
      ]
     },
     "execution_count": 14,
     "metadata": {},
     "output_type": "execute_result"
    }
   ],
   "source": [
    "multi_key-seg_key"
   ]
  },
  {
   "cell_type": "code",
   "execution_count": 15,
   "id": "3dd950d8",
   "metadata": {},
   "outputs": [],
   "source": [
    "multi2seg_key=multi_key-seg_key"
   ]
  },
  {
   "cell_type": "code",
   "execution_count": 16,
   "id": "01c05aea",
   "metadata": {},
   "outputs": [
    {
     "data": {
      "text/plain": [
       "{'heads.object.class_encoding.bias',\n",
       " 'heads.object.class_encoding.weight',\n",
       " 'heads.object.decoder.0.cross_posembed.position_embedding_head.0.bias',\n",
       " 'heads.object.decoder.0.cross_posembed.position_embedding_head.0.weight',\n",
       " 'heads.object.decoder.0.cross_posembed.position_embedding_head.1.bias',\n",
       " 'heads.object.decoder.0.cross_posembed.position_embedding_head.1.num_batches_tracked',\n",
       " 'heads.object.decoder.0.cross_posembed.position_embedding_head.1.running_mean',\n",
       " 'heads.object.decoder.0.cross_posembed.position_embedding_head.1.running_var',\n",
       " 'heads.object.decoder.0.cross_posembed.position_embedding_head.1.weight',\n",
       " 'heads.object.decoder.0.cross_posembed.position_embedding_head.3.bias',\n",
       " 'heads.object.decoder.0.cross_posembed.position_embedding_head.3.weight',\n",
       " 'heads.object.decoder.0.linear1.bias',\n",
       " 'heads.object.decoder.0.linear1.weight',\n",
       " 'heads.object.decoder.0.linear2.bias',\n",
       " 'heads.object.decoder.0.linear2.weight',\n",
       " 'heads.object.decoder.0.multihead_attn.in_proj_bias',\n",
       " 'heads.object.decoder.0.multihead_attn.in_proj_weight',\n",
       " 'heads.object.decoder.0.multihead_attn.out_proj.bias',\n",
       " 'heads.object.decoder.0.multihead_attn.out_proj.weight',\n",
       " 'heads.object.decoder.0.norm1.bias',\n",
       " 'heads.object.decoder.0.norm1.weight',\n",
       " 'heads.object.decoder.0.norm2.bias',\n",
       " 'heads.object.decoder.0.norm2.weight',\n",
       " 'heads.object.decoder.0.norm3.bias',\n",
       " 'heads.object.decoder.0.norm3.weight',\n",
       " 'heads.object.decoder.0.self_attn.in_proj_bias',\n",
       " 'heads.object.decoder.0.self_attn.in_proj_weight',\n",
       " 'heads.object.decoder.0.self_attn.out_proj.bias',\n",
       " 'heads.object.decoder.0.self_attn.out_proj.weight',\n",
       " 'heads.object.decoder.0.self_posembed.position_embedding_head.0.bias',\n",
       " 'heads.object.decoder.0.self_posembed.position_embedding_head.0.weight',\n",
       " 'heads.object.decoder.0.self_posembed.position_embedding_head.1.bias',\n",
       " 'heads.object.decoder.0.self_posembed.position_embedding_head.1.num_batches_tracked',\n",
       " 'heads.object.decoder.0.self_posembed.position_embedding_head.1.running_mean',\n",
       " 'heads.object.decoder.0.self_posembed.position_embedding_head.1.running_var',\n",
       " 'heads.object.decoder.0.self_posembed.position_embedding_head.1.weight',\n",
       " 'heads.object.decoder.0.self_posembed.position_embedding_head.3.bias',\n",
       " 'heads.object.decoder.0.self_posembed.position_embedding_head.3.weight',\n",
       " 'heads.object.heatmap_head.0.bn.bias',\n",
       " 'heads.object.heatmap_head.0.bn.num_batches_tracked',\n",
       " 'heads.object.heatmap_head.0.bn.running_mean',\n",
       " 'heads.object.heatmap_head.0.bn.running_var',\n",
       " 'heads.object.heatmap_head.0.bn.weight',\n",
       " 'heads.object.heatmap_head.0.conv.weight',\n",
       " 'heads.object.heatmap_head.1.bias',\n",
       " 'heads.object.heatmap_head.1.weight',\n",
       " 'heads.object.prediction_heads.0.center.0.bn.bias',\n",
       " 'heads.object.prediction_heads.0.center.0.bn.num_batches_tracked',\n",
       " 'heads.object.prediction_heads.0.center.0.bn.running_mean',\n",
       " 'heads.object.prediction_heads.0.center.0.bn.running_var',\n",
       " 'heads.object.prediction_heads.0.center.0.bn.weight',\n",
       " 'heads.object.prediction_heads.0.center.0.conv.weight',\n",
       " 'heads.object.prediction_heads.0.center.1.bias',\n",
       " 'heads.object.prediction_heads.0.center.1.weight',\n",
       " 'heads.object.prediction_heads.0.dim.0.bn.bias',\n",
       " 'heads.object.prediction_heads.0.dim.0.bn.num_batches_tracked',\n",
       " 'heads.object.prediction_heads.0.dim.0.bn.running_mean',\n",
       " 'heads.object.prediction_heads.0.dim.0.bn.running_var',\n",
       " 'heads.object.prediction_heads.0.dim.0.bn.weight',\n",
       " 'heads.object.prediction_heads.0.dim.0.conv.weight',\n",
       " 'heads.object.prediction_heads.0.dim.1.bias',\n",
       " 'heads.object.prediction_heads.0.dim.1.weight',\n",
       " 'heads.object.prediction_heads.0.heatmap.0.bn.bias',\n",
       " 'heads.object.prediction_heads.0.heatmap.0.bn.num_batches_tracked',\n",
       " 'heads.object.prediction_heads.0.heatmap.0.bn.running_mean',\n",
       " 'heads.object.prediction_heads.0.heatmap.0.bn.running_var',\n",
       " 'heads.object.prediction_heads.0.heatmap.0.bn.weight',\n",
       " 'heads.object.prediction_heads.0.heatmap.0.conv.weight',\n",
       " 'heads.object.prediction_heads.0.heatmap.1.bias',\n",
       " 'heads.object.prediction_heads.0.heatmap.1.weight',\n",
       " 'heads.object.prediction_heads.0.height.0.bn.bias',\n",
       " 'heads.object.prediction_heads.0.height.0.bn.num_batches_tracked',\n",
       " 'heads.object.prediction_heads.0.height.0.bn.running_mean',\n",
       " 'heads.object.prediction_heads.0.height.0.bn.running_var',\n",
       " 'heads.object.prediction_heads.0.height.0.bn.weight',\n",
       " 'heads.object.prediction_heads.0.height.0.conv.weight',\n",
       " 'heads.object.prediction_heads.0.height.1.bias',\n",
       " 'heads.object.prediction_heads.0.height.1.weight',\n",
       " 'heads.object.prediction_heads.0.rot.0.bn.bias',\n",
       " 'heads.object.prediction_heads.0.rot.0.bn.num_batches_tracked',\n",
       " 'heads.object.prediction_heads.0.rot.0.bn.running_mean',\n",
       " 'heads.object.prediction_heads.0.rot.0.bn.running_var',\n",
       " 'heads.object.prediction_heads.0.rot.0.bn.weight',\n",
       " 'heads.object.prediction_heads.0.rot.0.conv.weight',\n",
       " 'heads.object.prediction_heads.0.rot.1.bias',\n",
       " 'heads.object.prediction_heads.0.rot.1.weight',\n",
       " 'heads.object.prediction_heads.0.vel.0.bn.bias',\n",
       " 'heads.object.prediction_heads.0.vel.0.bn.num_batches_tracked',\n",
       " 'heads.object.prediction_heads.0.vel.0.bn.running_mean',\n",
       " 'heads.object.prediction_heads.0.vel.0.bn.running_var',\n",
       " 'heads.object.prediction_heads.0.vel.0.bn.weight',\n",
       " 'heads.object.prediction_heads.0.vel.0.conv.weight',\n",
       " 'heads.object.prediction_heads.0.vel.1.bias',\n",
       " 'heads.object.prediction_heads.0.vel.1.weight',\n",
       " 'heads.object.shared_conv.bias',\n",
       " 'heads.object.shared_conv.weight'}"
      ]
     },
     "execution_count": 16,
     "metadata": {},
     "output_type": "execute_result"
    }
   ],
   "source": [
    "multi2seg_key"
   ]
  },
  {
   "cell_type": "code",
   "execution_count": 17,
   "id": "f22ae8fd",
   "metadata": {},
   "outputs": [],
   "source": [
    "det_pth=torch.load(det_filepath)"
   ]
  },
  {
   "cell_type": "code",
   "execution_count": 18,
   "id": "d742e9f7",
   "metadata": {},
   "outputs": [],
   "source": [
    "det_key=det_pth['state_dict'].keys()"
   ]
  },
  {
   "cell_type": "code",
   "execution_count": 19,
   "id": "d7820345",
   "metadata": {},
   "outputs": [
    {
     "data": {
      "text/plain": [
       "{'heads.map.classifier.0.weight',\n",
       " 'heads.map.classifier.1.bias',\n",
       " 'heads.map.classifier.1.num_batches_tracked',\n",
       " 'heads.map.classifier.1.running_mean',\n",
       " 'heads.map.classifier.1.running_var',\n",
       " 'heads.map.classifier.1.weight',\n",
       " 'heads.map.classifier.3.weight',\n",
       " 'heads.map.classifier.4.bias',\n",
       " 'heads.map.classifier.4.num_batches_tracked',\n",
       " 'heads.map.classifier.4.running_mean',\n",
       " 'heads.map.classifier.4.running_var',\n",
       " 'heads.map.classifier.4.weight',\n",
       " 'heads.map.classifier.6.bias',\n",
       " 'heads.map.classifier.6.weight'}"
      ]
     },
     "execution_count": 19,
     "metadata": {},
     "output_type": "execute_result"
    }
   ],
   "source": [
    "multi_key-det_key"
   ]
  },
  {
   "cell_type": "code",
   "execution_count": 20,
   "id": "46cbcb34",
   "metadata": {},
   "outputs": [],
   "source": [
    "multi2det_key=multi_key-det_key"
   ]
  },
  {
   "cell_type": "code",
   "execution_count": 21,
   "id": "cf8b5a5b",
   "metadata": {},
   "outputs": [
    {
     "data": {
      "text/plain": [
       "odict_keys(['encoders.camera.backbone.patch_embed.projection.weight', 'encoders.camera.backbone.patch_embed.projection.bias', 'encoders.camera.backbone.patch_embed.norm.weight', 'encoders.camera.backbone.patch_embed.norm.bias', 'encoders.camera.backbone.stages.0.blocks.0.norm1.weight', 'encoders.camera.backbone.stages.0.blocks.0.norm1.bias', 'encoders.camera.backbone.stages.0.blocks.0.attn.w_msa.relative_position_bias_table', 'encoders.camera.backbone.stages.0.blocks.0.attn.w_msa.relative_position_index', 'encoders.camera.backbone.stages.0.blocks.0.attn.w_msa.qkv.weight', 'encoders.camera.backbone.stages.0.blocks.0.attn.w_msa.qkv.bias', 'encoders.camera.backbone.stages.0.blocks.0.attn.w_msa.proj.weight', 'encoders.camera.backbone.stages.0.blocks.0.attn.w_msa.proj.bias', 'encoders.camera.backbone.stages.0.blocks.0.norm2.weight', 'encoders.camera.backbone.stages.0.blocks.0.norm2.bias', 'encoders.camera.backbone.stages.0.blocks.0.ffn.layers.0.0.weight', 'encoders.camera.backbone.stages.0.blocks.0.ffn.layers.0.0.bias', 'encoders.camera.backbone.stages.0.blocks.0.ffn.layers.1.weight', 'encoders.camera.backbone.stages.0.blocks.0.ffn.layers.1.bias', 'encoders.camera.backbone.stages.0.blocks.1.norm1.weight', 'encoders.camera.backbone.stages.0.blocks.1.norm1.bias', 'encoders.camera.backbone.stages.0.blocks.1.attn.w_msa.relative_position_bias_table', 'encoders.camera.backbone.stages.0.blocks.1.attn.w_msa.relative_position_index', 'encoders.camera.backbone.stages.0.blocks.1.attn.w_msa.qkv.weight', 'encoders.camera.backbone.stages.0.blocks.1.attn.w_msa.qkv.bias', 'encoders.camera.backbone.stages.0.blocks.1.attn.w_msa.proj.weight', 'encoders.camera.backbone.stages.0.blocks.1.attn.w_msa.proj.bias', 'encoders.camera.backbone.stages.0.blocks.1.norm2.weight', 'encoders.camera.backbone.stages.0.blocks.1.norm2.bias', 'encoders.camera.backbone.stages.0.blocks.1.ffn.layers.0.0.weight', 'encoders.camera.backbone.stages.0.blocks.1.ffn.layers.0.0.bias', 'encoders.camera.backbone.stages.0.blocks.1.ffn.layers.1.weight', 'encoders.camera.backbone.stages.0.blocks.1.ffn.layers.1.bias', 'encoders.camera.backbone.stages.0.downsample.norm.weight', 'encoders.camera.backbone.stages.0.downsample.norm.bias', 'encoders.camera.backbone.stages.0.downsample.reduction.weight', 'encoders.camera.backbone.stages.1.blocks.0.norm1.weight', 'encoders.camera.backbone.stages.1.blocks.0.norm1.bias', 'encoders.camera.backbone.stages.1.blocks.0.attn.w_msa.relative_position_bias_table', 'encoders.camera.backbone.stages.1.blocks.0.attn.w_msa.relative_position_index', 'encoders.camera.backbone.stages.1.blocks.0.attn.w_msa.qkv.weight', 'encoders.camera.backbone.stages.1.blocks.0.attn.w_msa.qkv.bias', 'encoders.camera.backbone.stages.1.blocks.0.attn.w_msa.proj.weight', 'encoders.camera.backbone.stages.1.blocks.0.attn.w_msa.proj.bias', 'encoders.camera.backbone.stages.1.blocks.0.norm2.weight', 'encoders.camera.backbone.stages.1.blocks.0.norm2.bias', 'encoders.camera.backbone.stages.1.blocks.0.ffn.layers.0.0.weight', 'encoders.camera.backbone.stages.1.blocks.0.ffn.layers.0.0.bias', 'encoders.camera.backbone.stages.1.blocks.0.ffn.layers.1.weight', 'encoders.camera.backbone.stages.1.blocks.0.ffn.layers.1.bias', 'encoders.camera.backbone.stages.1.blocks.1.norm1.weight', 'encoders.camera.backbone.stages.1.blocks.1.norm1.bias', 'encoders.camera.backbone.stages.1.blocks.1.attn.w_msa.relative_position_bias_table', 'encoders.camera.backbone.stages.1.blocks.1.attn.w_msa.relative_position_index', 'encoders.camera.backbone.stages.1.blocks.1.attn.w_msa.qkv.weight', 'encoders.camera.backbone.stages.1.blocks.1.attn.w_msa.qkv.bias', 'encoders.camera.backbone.stages.1.blocks.1.attn.w_msa.proj.weight', 'encoders.camera.backbone.stages.1.blocks.1.attn.w_msa.proj.bias', 'encoders.camera.backbone.stages.1.blocks.1.norm2.weight', 'encoders.camera.backbone.stages.1.blocks.1.norm2.bias', 'encoders.camera.backbone.stages.1.blocks.1.ffn.layers.0.0.weight', 'encoders.camera.backbone.stages.1.blocks.1.ffn.layers.0.0.bias', 'encoders.camera.backbone.stages.1.blocks.1.ffn.layers.1.weight', 'encoders.camera.backbone.stages.1.blocks.1.ffn.layers.1.bias', 'encoders.camera.backbone.stages.1.downsample.norm.weight', 'encoders.camera.backbone.stages.1.downsample.norm.bias', 'encoders.camera.backbone.stages.1.downsample.reduction.weight', 'encoders.camera.backbone.stages.2.blocks.0.norm1.weight', 'encoders.camera.backbone.stages.2.blocks.0.norm1.bias', 'encoders.camera.backbone.stages.2.blocks.0.attn.w_msa.relative_position_bias_table', 'encoders.camera.backbone.stages.2.blocks.0.attn.w_msa.relative_position_index', 'encoders.camera.backbone.stages.2.blocks.0.attn.w_msa.qkv.weight', 'encoders.camera.backbone.stages.2.blocks.0.attn.w_msa.qkv.bias', 'encoders.camera.backbone.stages.2.blocks.0.attn.w_msa.proj.weight', 'encoders.camera.backbone.stages.2.blocks.0.attn.w_msa.proj.bias', 'encoders.camera.backbone.stages.2.blocks.0.norm2.weight', 'encoders.camera.backbone.stages.2.blocks.0.norm2.bias', 'encoders.camera.backbone.stages.2.blocks.0.ffn.layers.0.0.weight', 'encoders.camera.backbone.stages.2.blocks.0.ffn.layers.0.0.bias', 'encoders.camera.backbone.stages.2.blocks.0.ffn.layers.1.weight', 'encoders.camera.backbone.stages.2.blocks.0.ffn.layers.1.bias', 'encoders.camera.backbone.stages.2.blocks.1.norm1.weight', 'encoders.camera.backbone.stages.2.blocks.1.norm1.bias', 'encoders.camera.backbone.stages.2.blocks.1.attn.w_msa.relative_position_bias_table', 'encoders.camera.backbone.stages.2.blocks.1.attn.w_msa.relative_position_index', 'encoders.camera.backbone.stages.2.blocks.1.attn.w_msa.qkv.weight', 'encoders.camera.backbone.stages.2.blocks.1.attn.w_msa.qkv.bias', 'encoders.camera.backbone.stages.2.blocks.1.attn.w_msa.proj.weight', 'encoders.camera.backbone.stages.2.blocks.1.attn.w_msa.proj.bias', 'encoders.camera.backbone.stages.2.blocks.1.norm2.weight', 'encoders.camera.backbone.stages.2.blocks.1.norm2.bias', 'encoders.camera.backbone.stages.2.blocks.1.ffn.layers.0.0.weight', 'encoders.camera.backbone.stages.2.blocks.1.ffn.layers.0.0.bias', 'encoders.camera.backbone.stages.2.blocks.1.ffn.layers.1.weight', 'encoders.camera.backbone.stages.2.blocks.1.ffn.layers.1.bias', 'encoders.camera.backbone.stages.2.blocks.2.norm1.weight', 'encoders.camera.backbone.stages.2.blocks.2.norm1.bias', 'encoders.camera.backbone.stages.2.blocks.2.attn.w_msa.relative_position_bias_table', 'encoders.camera.backbone.stages.2.blocks.2.attn.w_msa.relative_position_index', 'encoders.camera.backbone.stages.2.blocks.2.attn.w_msa.qkv.weight', 'encoders.camera.backbone.stages.2.blocks.2.attn.w_msa.qkv.bias', 'encoders.camera.backbone.stages.2.blocks.2.attn.w_msa.proj.weight', 'encoders.camera.backbone.stages.2.blocks.2.attn.w_msa.proj.bias', 'encoders.camera.backbone.stages.2.blocks.2.norm2.weight', 'encoders.camera.backbone.stages.2.blocks.2.norm2.bias', 'encoders.camera.backbone.stages.2.blocks.2.ffn.layers.0.0.weight', 'encoders.camera.backbone.stages.2.blocks.2.ffn.layers.0.0.bias', 'encoders.camera.backbone.stages.2.blocks.2.ffn.layers.1.weight', 'encoders.camera.backbone.stages.2.blocks.2.ffn.layers.1.bias', 'encoders.camera.backbone.stages.2.blocks.3.norm1.weight', 'encoders.camera.backbone.stages.2.blocks.3.norm1.bias', 'encoders.camera.backbone.stages.2.blocks.3.attn.w_msa.relative_position_bias_table', 'encoders.camera.backbone.stages.2.blocks.3.attn.w_msa.relative_position_index', 'encoders.camera.backbone.stages.2.blocks.3.attn.w_msa.qkv.weight', 'encoders.camera.backbone.stages.2.blocks.3.attn.w_msa.qkv.bias', 'encoders.camera.backbone.stages.2.blocks.3.attn.w_msa.proj.weight', 'encoders.camera.backbone.stages.2.blocks.3.attn.w_msa.proj.bias', 'encoders.camera.backbone.stages.2.blocks.3.norm2.weight', 'encoders.camera.backbone.stages.2.blocks.3.norm2.bias', 'encoders.camera.backbone.stages.2.blocks.3.ffn.layers.0.0.weight', 'encoders.camera.backbone.stages.2.blocks.3.ffn.layers.0.0.bias', 'encoders.camera.backbone.stages.2.blocks.3.ffn.layers.1.weight', 'encoders.camera.backbone.stages.2.blocks.3.ffn.layers.1.bias', 'encoders.camera.backbone.stages.2.blocks.4.norm1.weight', 'encoders.camera.backbone.stages.2.blocks.4.norm1.bias', 'encoders.camera.backbone.stages.2.blocks.4.attn.w_msa.relative_position_bias_table', 'encoders.camera.backbone.stages.2.blocks.4.attn.w_msa.relative_position_index', 'encoders.camera.backbone.stages.2.blocks.4.attn.w_msa.qkv.weight', 'encoders.camera.backbone.stages.2.blocks.4.attn.w_msa.qkv.bias', 'encoders.camera.backbone.stages.2.blocks.4.attn.w_msa.proj.weight', 'encoders.camera.backbone.stages.2.blocks.4.attn.w_msa.proj.bias', 'encoders.camera.backbone.stages.2.blocks.4.norm2.weight', 'encoders.camera.backbone.stages.2.blocks.4.norm2.bias', 'encoders.camera.backbone.stages.2.blocks.4.ffn.layers.0.0.weight', 'encoders.camera.backbone.stages.2.blocks.4.ffn.layers.0.0.bias', 'encoders.camera.backbone.stages.2.blocks.4.ffn.layers.1.weight', 'encoders.camera.backbone.stages.2.blocks.4.ffn.layers.1.bias', 'encoders.camera.backbone.stages.2.blocks.5.norm1.weight', 'encoders.camera.backbone.stages.2.blocks.5.norm1.bias', 'encoders.camera.backbone.stages.2.blocks.5.attn.w_msa.relative_position_bias_table', 'encoders.camera.backbone.stages.2.blocks.5.attn.w_msa.relative_position_index', 'encoders.camera.backbone.stages.2.blocks.5.attn.w_msa.qkv.weight', 'encoders.camera.backbone.stages.2.blocks.5.attn.w_msa.qkv.bias', 'encoders.camera.backbone.stages.2.blocks.5.attn.w_msa.proj.weight', 'encoders.camera.backbone.stages.2.blocks.5.attn.w_msa.proj.bias', 'encoders.camera.backbone.stages.2.blocks.5.norm2.weight', 'encoders.camera.backbone.stages.2.blocks.5.norm2.bias', 'encoders.camera.backbone.stages.2.blocks.5.ffn.layers.0.0.weight', 'encoders.camera.backbone.stages.2.blocks.5.ffn.layers.0.0.bias', 'encoders.camera.backbone.stages.2.blocks.5.ffn.layers.1.weight', 'encoders.camera.backbone.stages.2.blocks.5.ffn.layers.1.bias', 'encoders.camera.backbone.stages.2.downsample.norm.weight', 'encoders.camera.backbone.stages.2.downsample.norm.bias', 'encoders.camera.backbone.stages.2.downsample.reduction.weight', 'encoders.camera.backbone.stages.3.blocks.0.norm1.weight', 'encoders.camera.backbone.stages.3.blocks.0.norm1.bias', 'encoders.camera.backbone.stages.3.blocks.0.attn.w_msa.relative_position_bias_table', 'encoders.camera.backbone.stages.3.blocks.0.attn.w_msa.relative_position_index', 'encoders.camera.backbone.stages.3.blocks.0.attn.w_msa.qkv.weight', 'encoders.camera.backbone.stages.3.blocks.0.attn.w_msa.qkv.bias', 'encoders.camera.backbone.stages.3.blocks.0.attn.w_msa.proj.weight', 'encoders.camera.backbone.stages.3.blocks.0.attn.w_msa.proj.bias', 'encoders.camera.backbone.stages.3.blocks.0.norm2.weight', 'encoders.camera.backbone.stages.3.blocks.0.norm2.bias', 'encoders.camera.backbone.stages.3.blocks.0.ffn.layers.0.0.weight', 'encoders.camera.backbone.stages.3.blocks.0.ffn.layers.0.0.bias', 'encoders.camera.backbone.stages.3.blocks.0.ffn.layers.1.weight', 'encoders.camera.backbone.stages.3.blocks.0.ffn.layers.1.bias', 'encoders.camera.backbone.stages.3.blocks.1.norm1.weight', 'encoders.camera.backbone.stages.3.blocks.1.norm1.bias', 'encoders.camera.backbone.stages.3.blocks.1.attn.w_msa.relative_position_bias_table', 'encoders.camera.backbone.stages.3.blocks.1.attn.w_msa.relative_position_index', 'encoders.camera.backbone.stages.3.blocks.1.attn.w_msa.qkv.weight', 'encoders.camera.backbone.stages.3.blocks.1.attn.w_msa.qkv.bias', 'encoders.camera.backbone.stages.3.blocks.1.attn.w_msa.proj.weight', 'encoders.camera.backbone.stages.3.blocks.1.attn.w_msa.proj.bias', 'encoders.camera.backbone.stages.3.blocks.1.norm2.weight', 'encoders.camera.backbone.stages.3.blocks.1.norm2.bias', 'encoders.camera.backbone.stages.3.blocks.1.ffn.layers.0.0.weight', 'encoders.camera.backbone.stages.3.blocks.1.ffn.layers.0.0.bias', 'encoders.camera.backbone.stages.3.blocks.1.ffn.layers.1.weight', 'encoders.camera.backbone.stages.3.blocks.1.ffn.layers.1.bias', 'encoders.camera.backbone.norm1.weight', 'encoders.camera.backbone.norm1.bias', 'encoders.camera.backbone.norm2.weight', 'encoders.camera.backbone.norm2.bias', 'encoders.camera.backbone.norm3.weight', 'encoders.camera.backbone.norm3.bias', 'encoders.camera.neck.lateral_convs.0.conv.weight', 'encoders.camera.neck.lateral_convs.0.bn.weight', 'encoders.camera.neck.lateral_convs.0.bn.bias', 'encoders.camera.neck.lateral_convs.0.bn.running_mean', 'encoders.camera.neck.lateral_convs.0.bn.running_var', 'encoders.camera.neck.lateral_convs.0.bn.num_batches_tracked', 'encoders.camera.neck.lateral_convs.1.conv.weight', 'encoders.camera.neck.lateral_convs.1.bn.weight', 'encoders.camera.neck.lateral_convs.1.bn.bias', 'encoders.camera.neck.lateral_convs.1.bn.running_mean', 'encoders.camera.neck.lateral_convs.1.bn.running_var', 'encoders.camera.neck.lateral_convs.1.bn.num_batches_tracked', 'encoders.camera.neck.fpn_convs.0.conv.weight', 'encoders.camera.neck.fpn_convs.0.bn.weight', 'encoders.camera.neck.fpn_convs.0.bn.bias', 'encoders.camera.neck.fpn_convs.0.bn.running_mean', 'encoders.camera.neck.fpn_convs.0.bn.running_var', 'encoders.camera.neck.fpn_convs.0.bn.num_batches_tracked', 'encoders.camera.neck.fpn_convs.1.conv.weight', 'encoders.camera.neck.fpn_convs.1.bn.weight', 'encoders.camera.neck.fpn_convs.1.bn.bias', 'encoders.camera.neck.fpn_convs.1.bn.running_mean', 'encoders.camera.neck.fpn_convs.1.bn.running_var', 'encoders.camera.neck.fpn_convs.1.bn.num_batches_tracked', 'encoders.camera.vtransform.dx', 'encoders.camera.vtransform.bx', 'encoders.camera.vtransform.nx', 'encoders.camera.vtransform.frustum', 'encoders.camera.vtransform.dtransform.0.weight', 'encoders.camera.vtransform.dtransform.0.bias', 'encoders.camera.vtransform.dtransform.1.weight', 'encoders.camera.vtransform.dtransform.1.bias', 'encoders.camera.vtransform.dtransform.1.running_mean', 'encoders.camera.vtransform.dtransform.1.running_var', 'encoders.camera.vtransform.dtransform.1.num_batches_tracked', 'encoders.camera.vtransform.dtransform.3.weight', 'encoders.camera.vtransform.dtransform.3.bias', 'encoders.camera.vtransform.dtransform.4.weight', 'encoders.camera.vtransform.dtransform.4.bias', 'encoders.camera.vtransform.dtransform.4.running_mean', 'encoders.camera.vtransform.dtransform.4.running_var', 'encoders.camera.vtransform.dtransform.4.num_batches_tracked', 'encoders.camera.vtransform.dtransform.6.weight', 'encoders.camera.vtransform.dtransform.6.bias', 'encoders.camera.vtransform.dtransform.7.weight', 'encoders.camera.vtransform.dtransform.7.bias', 'encoders.camera.vtransform.dtransform.7.running_mean', 'encoders.camera.vtransform.dtransform.7.running_var', 'encoders.camera.vtransform.dtransform.7.num_batches_tracked', 'encoders.camera.vtransform.depth_map_transform.0.weight', 'encoders.camera.vtransform.depth_map_transform.0.bias', 'encoders.camera.vtransform.depth_map_transform.1.weight', 'encoders.camera.vtransform.depth_map_transform.1.bias', 'encoders.camera.vtransform.depth_map_transform.1.running_mean', 'encoders.camera.vtransform.depth_map_transform.1.running_var', 'encoders.camera.vtransform.depth_map_transform.1.num_batches_tracked', 'encoders.camera.vtransform.depth_map_transform.3.weight', 'encoders.camera.vtransform.depth_map_transform.3.bias', 'encoders.camera.vtransform.prenet.0.weight', 'encoders.camera.vtransform.prenet.0.bias', 'encoders.camera.vtransform.prenet.1.weight', 'encoders.camera.vtransform.prenet.1.bias', 'encoders.camera.vtransform.prenet.1.running_mean', 'encoders.camera.vtransform.prenet.1.running_var', 'encoders.camera.vtransform.prenet.1.num_batches_tracked', 'encoders.camera.vtransform.prenet.3.weight', 'encoders.camera.vtransform.prenet.3.bias', 'encoders.camera.vtransform.prenet.4.weight', 'encoders.camera.vtransform.prenet.4.bias', 'encoders.camera.vtransform.prenet.4.running_mean', 'encoders.camera.vtransform.prenet.4.running_var', 'encoders.camera.vtransform.prenet.4.num_batches_tracked', 'encoders.camera.vtransform.depthnet.weight', 'encoders.camera.vtransform.depthnet.bias', 'encoders.camera.vtransform.contextnet.weight', 'encoders.camera.vtransform.contextnet.bias', 'encoders.camera.vtransform.attention1.conv.weight', 'encoders.camera.vtransform.attention1.conv.bias', 'encoders.camera.vtransform.attention1.channel_attention.fc.0.weight', 'encoders.camera.vtransform.attention1.channel_attention.fc.0.bias', 'encoders.camera.vtransform.attention1.channel_attention.fc.2.weight', 'encoders.camera.vtransform.attention1.channel_attention.fc.2.bias', 'encoders.camera.vtransform.convnet.0.weight', 'encoders.camera.vtransform.convnet.0.bias', 'encoders.camera.vtransform.convnet.1.weight', 'encoders.camera.vtransform.convnet.1.bias', 'encoders.camera.vtransform.convnet.1.running_mean', 'encoders.camera.vtransform.convnet.1.running_var', 'encoders.camera.vtransform.convnet.1.num_batches_tracked', 'encoders.camera.vtransform.convnet.3.weight', 'encoders.camera.vtransform.convnet.3.bias', 'encoders.camera.vtransform.convnet.4.weight', 'encoders.camera.vtransform.convnet.4.bias', 'encoders.camera.vtransform.convnet.4.running_mean', 'encoders.camera.vtransform.convnet.4.running_var', 'encoders.camera.vtransform.convnet.4.num_batches_tracked', 'encoders.camera.vtransform.downsample.0.weight', 'encoders.camera.vtransform.downsample.1.weight', 'encoders.camera.vtransform.downsample.1.bias', 'encoders.camera.vtransform.downsample.1.running_mean', 'encoders.camera.vtransform.downsample.1.running_var', 'encoders.camera.vtransform.downsample.1.num_batches_tracked', 'encoders.camera.vtransform.downsample.3.weight', 'encoders.camera.vtransform.downsample.4.weight', 'encoders.camera.vtransform.downsample.4.bias', 'encoders.camera.vtransform.downsample.4.running_mean', 'encoders.camera.vtransform.downsample.4.running_var', 'encoders.camera.vtransform.downsample.4.num_batches_tracked', 'encoders.camera.vtransform.downsample.6.weight', 'encoders.camera.vtransform.downsample.7.weight', 'encoders.camera.vtransform.downsample.7.bias', 'encoders.camera.vtransform.downsample.7.running_mean', 'encoders.camera.vtransform.downsample.7.running_var', 'encoders.camera.vtransform.downsample.7.num_batches_tracked', 'encoders.lidar.backbone.conv_input.0.weight', 'encoders.lidar.backbone.conv_input.1.weight', 'encoders.lidar.backbone.conv_input.1.bias', 'encoders.lidar.backbone.conv_input.1.running_mean', 'encoders.lidar.backbone.conv_input.1.running_var', 'encoders.lidar.backbone.conv_input.1.num_batches_tracked', 'encoders.lidar.backbone.encoder_layers.encoder_layer1.0.conv1.weight', 'encoders.lidar.backbone.encoder_layers.encoder_layer1.0.bn1.weight', 'encoders.lidar.backbone.encoder_layers.encoder_layer1.0.bn1.bias', 'encoders.lidar.backbone.encoder_layers.encoder_layer1.0.bn1.running_mean', 'encoders.lidar.backbone.encoder_layers.encoder_layer1.0.bn1.running_var', 'encoders.lidar.backbone.encoder_layers.encoder_layer1.0.bn1.num_batches_tracked', 'encoders.lidar.backbone.encoder_layers.encoder_layer1.0.conv2.weight', 'encoders.lidar.backbone.encoder_layers.encoder_layer1.0.bn2.weight', 'encoders.lidar.backbone.encoder_layers.encoder_layer1.0.bn2.bias', 'encoders.lidar.backbone.encoder_layers.encoder_layer1.0.bn2.running_mean', 'encoders.lidar.backbone.encoder_layers.encoder_layer1.0.bn2.running_var', 'encoders.lidar.backbone.encoder_layers.encoder_layer1.0.bn2.num_batches_tracked', 'encoders.lidar.backbone.encoder_layers.encoder_layer1.1.conv1.weight', 'encoders.lidar.backbone.encoder_layers.encoder_layer1.1.bn1.weight', 'encoders.lidar.backbone.encoder_layers.encoder_layer1.1.bn1.bias', 'encoders.lidar.backbone.encoder_layers.encoder_layer1.1.bn1.running_mean', 'encoders.lidar.backbone.encoder_layers.encoder_layer1.1.bn1.running_var', 'encoders.lidar.backbone.encoder_layers.encoder_layer1.1.bn1.num_batches_tracked', 'encoders.lidar.backbone.encoder_layers.encoder_layer1.1.conv2.weight', 'encoders.lidar.backbone.encoder_layers.encoder_layer1.1.bn2.weight', 'encoders.lidar.backbone.encoder_layers.encoder_layer1.1.bn2.bias', 'encoders.lidar.backbone.encoder_layers.encoder_layer1.1.bn2.running_mean', 'encoders.lidar.backbone.encoder_layers.encoder_layer1.1.bn2.running_var', 'encoders.lidar.backbone.encoder_layers.encoder_layer1.1.bn2.num_batches_tracked', 'encoders.lidar.backbone.encoder_layers.encoder_layer1.2.0.weight', 'encoders.lidar.backbone.encoder_layers.encoder_layer1.2.1.weight', 'encoders.lidar.backbone.encoder_layers.encoder_layer1.2.1.bias', 'encoders.lidar.backbone.encoder_layers.encoder_layer1.2.1.running_mean', 'encoders.lidar.backbone.encoder_layers.encoder_layer1.2.1.running_var', 'encoders.lidar.backbone.encoder_layers.encoder_layer1.2.1.num_batches_tracked', 'encoders.lidar.backbone.encoder_layers.encoder_layer2.0.conv1.weight', 'encoders.lidar.backbone.encoder_layers.encoder_layer2.0.bn1.weight', 'encoders.lidar.backbone.encoder_layers.encoder_layer2.0.bn1.bias', 'encoders.lidar.backbone.encoder_layers.encoder_layer2.0.bn1.running_mean', 'encoders.lidar.backbone.encoder_layers.encoder_layer2.0.bn1.running_var', 'encoders.lidar.backbone.encoder_layers.encoder_layer2.0.bn1.num_batches_tracked', 'encoders.lidar.backbone.encoder_layers.encoder_layer2.0.conv2.weight', 'encoders.lidar.backbone.encoder_layers.encoder_layer2.0.bn2.weight', 'encoders.lidar.backbone.encoder_layers.encoder_layer2.0.bn2.bias', 'encoders.lidar.backbone.encoder_layers.encoder_layer2.0.bn2.running_mean', 'encoders.lidar.backbone.encoder_layers.encoder_layer2.0.bn2.running_var', 'encoders.lidar.backbone.encoder_layers.encoder_layer2.0.bn2.num_batches_tracked', 'encoders.lidar.backbone.encoder_layers.encoder_layer2.1.conv1.weight', 'encoders.lidar.backbone.encoder_layers.encoder_layer2.1.bn1.weight', 'encoders.lidar.backbone.encoder_layers.encoder_layer2.1.bn1.bias', 'encoders.lidar.backbone.encoder_layers.encoder_layer2.1.bn1.running_mean', 'encoders.lidar.backbone.encoder_layers.encoder_layer2.1.bn1.running_var', 'encoders.lidar.backbone.encoder_layers.encoder_layer2.1.bn1.num_batches_tracked', 'encoders.lidar.backbone.encoder_layers.encoder_layer2.1.conv2.weight', 'encoders.lidar.backbone.encoder_layers.encoder_layer2.1.bn2.weight', 'encoders.lidar.backbone.encoder_layers.encoder_layer2.1.bn2.bias', 'encoders.lidar.backbone.encoder_layers.encoder_layer2.1.bn2.running_mean', 'encoders.lidar.backbone.encoder_layers.encoder_layer2.1.bn2.running_var', 'encoders.lidar.backbone.encoder_layers.encoder_layer2.1.bn2.num_batches_tracked', 'encoders.lidar.backbone.encoder_layers.encoder_layer2.2.0.weight', 'encoders.lidar.backbone.encoder_layers.encoder_layer2.2.1.weight', 'encoders.lidar.backbone.encoder_layers.encoder_layer2.2.1.bias', 'encoders.lidar.backbone.encoder_layers.encoder_layer2.2.1.running_mean', 'encoders.lidar.backbone.encoder_layers.encoder_layer2.2.1.running_var', 'encoders.lidar.backbone.encoder_layers.encoder_layer2.2.1.num_batches_tracked', 'encoders.lidar.backbone.encoder_layers.encoder_layer3.0.conv1.weight', 'encoders.lidar.backbone.encoder_layers.encoder_layer3.0.bn1.weight', 'encoders.lidar.backbone.encoder_layers.encoder_layer3.0.bn1.bias', 'encoders.lidar.backbone.encoder_layers.encoder_layer3.0.bn1.running_mean', 'encoders.lidar.backbone.encoder_layers.encoder_layer3.0.bn1.running_var', 'encoders.lidar.backbone.encoder_layers.encoder_layer3.0.bn1.num_batches_tracked', 'encoders.lidar.backbone.encoder_layers.encoder_layer3.0.conv2.weight', 'encoders.lidar.backbone.encoder_layers.encoder_layer3.0.bn2.weight', 'encoders.lidar.backbone.encoder_layers.encoder_layer3.0.bn2.bias', 'encoders.lidar.backbone.encoder_layers.encoder_layer3.0.bn2.running_mean', 'encoders.lidar.backbone.encoder_layers.encoder_layer3.0.bn2.running_var', 'encoders.lidar.backbone.encoder_layers.encoder_layer3.0.bn2.num_batches_tracked', 'encoders.lidar.backbone.encoder_layers.encoder_layer3.1.conv1.weight', 'encoders.lidar.backbone.encoder_layers.encoder_layer3.1.bn1.weight', 'encoders.lidar.backbone.encoder_layers.encoder_layer3.1.bn1.bias', 'encoders.lidar.backbone.encoder_layers.encoder_layer3.1.bn1.running_mean', 'encoders.lidar.backbone.encoder_layers.encoder_layer3.1.bn1.running_var', 'encoders.lidar.backbone.encoder_layers.encoder_layer3.1.bn1.num_batches_tracked', 'encoders.lidar.backbone.encoder_layers.encoder_layer3.1.conv2.weight', 'encoders.lidar.backbone.encoder_layers.encoder_layer3.1.bn2.weight', 'encoders.lidar.backbone.encoder_layers.encoder_layer3.1.bn2.bias', 'encoders.lidar.backbone.encoder_layers.encoder_layer3.1.bn2.running_mean', 'encoders.lidar.backbone.encoder_layers.encoder_layer3.1.bn2.running_var', 'encoders.lidar.backbone.encoder_layers.encoder_layer3.1.bn2.num_batches_tracked', 'encoders.lidar.backbone.encoder_layers.encoder_layer3.2.0.weight', 'encoders.lidar.backbone.encoder_layers.encoder_layer3.2.1.weight', 'encoders.lidar.backbone.encoder_layers.encoder_layer3.2.1.bias', 'encoders.lidar.backbone.encoder_layers.encoder_layer3.2.1.running_mean', 'encoders.lidar.backbone.encoder_layers.encoder_layer3.2.1.running_var', 'encoders.lidar.backbone.encoder_layers.encoder_layer3.2.1.num_batches_tracked', 'encoders.lidar.backbone.encoder_layers.encoder_layer4.0.conv1.weight', 'encoders.lidar.backbone.encoder_layers.encoder_layer4.0.bn1.weight', 'encoders.lidar.backbone.encoder_layers.encoder_layer4.0.bn1.bias', 'encoders.lidar.backbone.encoder_layers.encoder_layer4.0.bn1.running_mean', 'encoders.lidar.backbone.encoder_layers.encoder_layer4.0.bn1.running_var', 'encoders.lidar.backbone.encoder_layers.encoder_layer4.0.bn1.num_batches_tracked', 'encoders.lidar.backbone.encoder_layers.encoder_layer4.0.conv2.weight', 'encoders.lidar.backbone.encoder_layers.encoder_layer4.0.bn2.weight', 'encoders.lidar.backbone.encoder_layers.encoder_layer4.0.bn2.bias', 'encoders.lidar.backbone.encoder_layers.encoder_layer4.0.bn2.running_mean', 'encoders.lidar.backbone.encoder_layers.encoder_layer4.0.bn2.running_var', 'encoders.lidar.backbone.encoder_layers.encoder_layer4.0.bn2.num_batches_tracked', 'encoders.lidar.backbone.encoder_layers.encoder_layer4.1.conv1.weight', 'encoders.lidar.backbone.encoder_layers.encoder_layer4.1.bn1.weight', 'encoders.lidar.backbone.encoder_layers.encoder_layer4.1.bn1.bias', 'encoders.lidar.backbone.encoder_layers.encoder_layer4.1.bn1.running_mean', 'encoders.lidar.backbone.encoder_layers.encoder_layer4.1.bn1.running_var', 'encoders.lidar.backbone.encoder_layers.encoder_layer4.1.bn1.num_batches_tracked', 'encoders.lidar.backbone.encoder_layers.encoder_layer4.1.conv2.weight', 'encoders.lidar.backbone.encoder_layers.encoder_layer4.1.bn2.weight', 'encoders.lidar.backbone.encoder_layers.encoder_layer4.1.bn2.bias', 'encoders.lidar.backbone.encoder_layers.encoder_layer4.1.bn2.running_mean', 'encoders.lidar.backbone.encoder_layers.encoder_layer4.1.bn2.running_var', 'encoders.lidar.backbone.encoder_layers.encoder_layer4.1.bn2.num_batches_tracked', 'encoders.lidar.backbone.conv_out.0.weight', 'encoders.lidar.backbone.conv_out.1.weight', 'encoders.lidar.backbone.conv_out.1.bias', 'encoders.lidar.backbone.conv_out.1.running_mean', 'encoders.lidar.backbone.conv_out.1.running_var', 'encoders.lidar.backbone.conv_out.1.num_batches_tracked', 'fuser.0.weight', 'fuser.1.weight', 'fuser.1.bias', 'fuser.1.running_mean', 'fuser.1.running_var', 'fuser.1.num_batches_tracked', 'decoder.backbone.blocks.0.0.weight', 'decoder.backbone.blocks.0.1.weight', 'decoder.backbone.blocks.0.1.bias', 'decoder.backbone.blocks.0.1.running_mean', 'decoder.backbone.blocks.0.1.running_var', 'decoder.backbone.blocks.0.1.num_batches_tracked', 'decoder.backbone.blocks.0.3.weight', 'decoder.backbone.blocks.0.4.weight', 'decoder.backbone.blocks.0.4.bias', 'decoder.backbone.blocks.0.4.running_mean', 'decoder.backbone.blocks.0.4.running_var', 'decoder.backbone.blocks.0.4.num_batches_tracked', 'decoder.backbone.blocks.0.6.weight', 'decoder.backbone.blocks.0.7.weight', 'decoder.backbone.blocks.0.7.bias', 'decoder.backbone.blocks.0.7.running_mean', 'decoder.backbone.blocks.0.7.running_var', 'decoder.backbone.blocks.0.7.num_batches_tracked', 'decoder.backbone.blocks.0.9.weight', 'decoder.backbone.blocks.0.10.weight', 'decoder.backbone.blocks.0.10.bias', 'decoder.backbone.blocks.0.10.running_mean', 'decoder.backbone.blocks.0.10.running_var', 'decoder.backbone.blocks.0.10.num_batches_tracked', 'decoder.backbone.blocks.0.12.weight', 'decoder.backbone.blocks.0.13.weight', 'decoder.backbone.blocks.0.13.bias', 'decoder.backbone.blocks.0.13.running_mean', 'decoder.backbone.blocks.0.13.running_var', 'decoder.backbone.blocks.0.13.num_batches_tracked', 'decoder.backbone.blocks.0.15.weight', 'decoder.backbone.blocks.0.16.weight', 'decoder.backbone.blocks.0.16.bias', 'decoder.backbone.blocks.0.16.running_mean', 'decoder.backbone.blocks.0.16.running_var', 'decoder.backbone.blocks.0.16.num_batches_tracked', 'decoder.backbone.blocks.1.0.weight', 'decoder.backbone.blocks.1.1.weight', 'decoder.backbone.blocks.1.1.bias', 'decoder.backbone.blocks.1.1.running_mean', 'decoder.backbone.blocks.1.1.running_var', 'decoder.backbone.blocks.1.1.num_batches_tracked', 'decoder.backbone.blocks.1.3.weight', 'decoder.backbone.blocks.1.4.weight', 'decoder.backbone.blocks.1.4.bias', 'decoder.backbone.blocks.1.4.running_mean', 'decoder.backbone.blocks.1.4.running_var', 'decoder.backbone.blocks.1.4.num_batches_tracked', 'decoder.backbone.blocks.1.6.weight', 'decoder.backbone.blocks.1.7.weight', 'decoder.backbone.blocks.1.7.bias', 'decoder.backbone.blocks.1.7.running_mean', 'decoder.backbone.blocks.1.7.running_var', 'decoder.backbone.blocks.1.7.num_batches_tracked', 'decoder.backbone.blocks.1.9.weight', 'decoder.backbone.blocks.1.10.weight', 'decoder.backbone.blocks.1.10.bias', 'decoder.backbone.blocks.1.10.running_mean', 'decoder.backbone.blocks.1.10.running_var', 'decoder.backbone.blocks.1.10.num_batches_tracked', 'decoder.backbone.blocks.1.12.weight', 'decoder.backbone.blocks.1.13.weight', 'decoder.backbone.blocks.1.13.bias', 'decoder.backbone.blocks.1.13.running_mean', 'decoder.backbone.blocks.1.13.running_var', 'decoder.backbone.blocks.1.13.num_batches_tracked', 'decoder.backbone.blocks.1.15.weight', 'decoder.backbone.blocks.1.16.weight', 'decoder.backbone.blocks.1.16.bias', 'decoder.backbone.blocks.1.16.running_mean', 'decoder.backbone.blocks.1.16.running_var', 'decoder.backbone.blocks.1.16.num_batches_tracked', 'decoder.neck.deblocks.0.0.weight', 'decoder.neck.deblocks.0.1.weight', 'decoder.neck.deblocks.0.1.bias', 'decoder.neck.deblocks.0.1.running_mean', 'decoder.neck.deblocks.0.1.running_var', 'decoder.neck.deblocks.0.1.num_batches_tracked', 'decoder.neck.deblocks.1.0.weight', 'decoder.neck.deblocks.1.1.weight', 'decoder.neck.deblocks.1.1.bias', 'decoder.neck.deblocks.1.1.running_mean', 'decoder.neck.deblocks.1.1.running_var', 'decoder.neck.deblocks.1.1.num_batches_tracked', 'heads.object.shared_conv.weight', 'heads.object.shared_conv.bias', 'heads.object.heatmap_head.0.conv.weight', 'heads.object.heatmap_head.0.bn.weight', 'heads.object.heatmap_head.0.bn.bias', 'heads.object.heatmap_head.0.bn.running_mean', 'heads.object.heatmap_head.0.bn.running_var', 'heads.object.heatmap_head.0.bn.num_batches_tracked', 'heads.object.heatmap_head.1.weight', 'heads.object.heatmap_head.1.bias', 'heads.object.class_encoding.weight', 'heads.object.class_encoding.bias', 'heads.object.decoder.0.self_attn.in_proj_weight', 'heads.object.decoder.0.self_attn.in_proj_bias', 'heads.object.decoder.0.self_attn.out_proj.weight', 'heads.object.decoder.0.self_attn.out_proj.bias', 'heads.object.decoder.0.multihead_attn.in_proj_weight', 'heads.object.decoder.0.multihead_attn.in_proj_bias', 'heads.object.decoder.0.multihead_attn.out_proj.weight', 'heads.object.decoder.0.multihead_attn.out_proj.bias', 'heads.object.decoder.0.linear1.weight', 'heads.object.decoder.0.linear1.bias', 'heads.object.decoder.0.linear2.weight', 'heads.object.decoder.0.linear2.bias', 'heads.object.decoder.0.norm1.weight', 'heads.object.decoder.0.norm1.bias', 'heads.object.decoder.0.norm2.weight', 'heads.object.decoder.0.norm2.bias', 'heads.object.decoder.0.norm3.weight', 'heads.object.decoder.0.norm3.bias', 'heads.object.decoder.0.self_posembed.position_embedding_head.0.weight', 'heads.object.decoder.0.self_posembed.position_embedding_head.0.bias', 'heads.object.decoder.0.self_posembed.position_embedding_head.1.weight', 'heads.object.decoder.0.self_posembed.position_embedding_head.1.bias', 'heads.object.decoder.0.self_posembed.position_embedding_head.1.running_mean', 'heads.object.decoder.0.self_posembed.position_embedding_head.1.running_var', 'heads.object.decoder.0.self_posembed.position_embedding_head.1.num_batches_tracked', 'heads.object.decoder.0.self_posembed.position_embedding_head.3.weight', 'heads.object.decoder.0.self_posembed.position_embedding_head.3.bias', 'heads.object.decoder.0.cross_posembed.position_embedding_head.0.weight', 'heads.object.decoder.0.cross_posembed.position_embedding_head.0.bias', 'heads.object.decoder.0.cross_posembed.position_embedding_head.1.weight', 'heads.object.decoder.0.cross_posembed.position_embedding_head.1.bias', 'heads.object.decoder.0.cross_posembed.position_embedding_head.1.running_mean', 'heads.object.decoder.0.cross_posembed.position_embedding_head.1.running_var', 'heads.object.decoder.0.cross_posembed.position_embedding_head.1.num_batches_tracked', 'heads.object.decoder.0.cross_posembed.position_embedding_head.3.weight', 'heads.object.decoder.0.cross_posembed.position_embedding_head.3.bias', 'heads.object.prediction_heads.0.center.0.conv.weight', 'heads.object.prediction_heads.0.center.0.bn.weight', 'heads.object.prediction_heads.0.center.0.bn.bias', 'heads.object.prediction_heads.0.center.0.bn.running_mean', 'heads.object.prediction_heads.0.center.0.bn.running_var', 'heads.object.prediction_heads.0.center.0.bn.num_batches_tracked', 'heads.object.prediction_heads.0.center.1.weight', 'heads.object.prediction_heads.0.center.1.bias', 'heads.object.prediction_heads.0.height.0.conv.weight', 'heads.object.prediction_heads.0.height.0.bn.weight', 'heads.object.prediction_heads.0.height.0.bn.bias', 'heads.object.prediction_heads.0.height.0.bn.running_mean', 'heads.object.prediction_heads.0.height.0.bn.running_var', 'heads.object.prediction_heads.0.height.0.bn.num_batches_tracked', 'heads.object.prediction_heads.0.height.1.weight', 'heads.object.prediction_heads.0.height.1.bias', 'heads.object.prediction_heads.0.dim.0.conv.weight', 'heads.object.prediction_heads.0.dim.0.bn.weight', 'heads.object.prediction_heads.0.dim.0.bn.bias', 'heads.object.prediction_heads.0.dim.0.bn.running_mean', 'heads.object.prediction_heads.0.dim.0.bn.running_var', 'heads.object.prediction_heads.0.dim.0.bn.num_batches_tracked', 'heads.object.prediction_heads.0.dim.1.weight', 'heads.object.prediction_heads.0.dim.1.bias', 'heads.object.prediction_heads.0.rot.0.conv.weight', 'heads.object.prediction_heads.0.rot.0.bn.weight', 'heads.object.prediction_heads.0.rot.0.bn.bias', 'heads.object.prediction_heads.0.rot.0.bn.running_mean', 'heads.object.prediction_heads.0.rot.0.bn.running_var', 'heads.object.prediction_heads.0.rot.0.bn.num_batches_tracked', 'heads.object.prediction_heads.0.rot.1.weight', 'heads.object.prediction_heads.0.rot.1.bias', 'heads.object.prediction_heads.0.vel.0.conv.weight', 'heads.object.prediction_heads.0.vel.0.bn.weight', 'heads.object.prediction_heads.0.vel.0.bn.bias', 'heads.object.prediction_heads.0.vel.0.bn.running_mean', 'heads.object.prediction_heads.0.vel.0.bn.running_var', 'heads.object.prediction_heads.0.vel.0.bn.num_batches_tracked', 'heads.object.prediction_heads.0.vel.1.weight', 'heads.object.prediction_heads.0.vel.1.bias', 'heads.object.prediction_heads.0.heatmap.0.conv.weight', 'heads.object.prediction_heads.0.heatmap.0.bn.weight', 'heads.object.prediction_heads.0.heatmap.0.bn.bias', 'heads.object.prediction_heads.0.heatmap.0.bn.running_mean', 'heads.object.prediction_heads.0.heatmap.0.bn.running_var', 'heads.object.prediction_heads.0.heatmap.0.bn.num_batches_tracked', 'heads.object.prediction_heads.0.heatmap.1.weight', 'heads.object.prediction_heads.0.heatmap.1.bias'])"
      ]
     },
     "execution_count": 21,
     "metadata": {},
     "output_type": "execute_result"
    }
   ],
   "source": [
    "det_key"
   ]
  },
  {
   "cell_type": "code",
   "execution_count": 22,
   "id": "931e0e78",
   "metadata": {},
   "outputs": [
    {
     "name": "stdout",
     "output_type": "stream",
     "text": [
      "encoders.camera.vtransform.attention1.conv.weight\n",
      "encoders.camera.vtransform.attention1.conv.bias\n",
      "encoders.camera.vtransform.attention1.channel_attention.fc.0.weight\n",
      "encoders.camera.vtransform.attention1.channel_attention.fc.0.bias\n",
      "encoders.camera.vtransform.attention1.channel_attention.fc.2.weight\n",
      "encoders.camera.vtransform.attention1.channel_attention.fc.2.bias\n"
     ]
    }
   ],
   "source": [
    "for i in det_key:\n",
    "    if i[:30]==\"encoders.camera.vtransform.att\":\n",
    "        print(i)\n"
   ]
  },
  {
   "cell_type": "code",
   "execution_count": 23,
   "id": "41e8e33e",
   "metadata": {},
   "outputs": [
    {
     "name": "stdout",
     "output_type": "stream",
     "text": [
      "encoders.camera.vtransform.attention1.conv.weight\n",
      "encoders.camera.vtransform.attention1.conv.bias\n",
      "encoders.camera.vtransform.attention1.channel_attention.fc.0.weight\n",
      "encoders.camera.vtransform.attention1.channel_attention.fc.0.bias\n",
      "encoders.camera.vtransform.attention1.channel_attention.fc.2.weight\n",
      "encoders.camera.vtransform.attention1.channel_attention.fc.2.bias\n"
     ]
    }
   ],
   "source": [
    "for i in seg_key:\n",
    "    if i[:30]==\"encoders.camera.vtransform.att\":\n",
    "        print(i)"
   ]
  },
  {
   "cell_type": "code",
   "execution_count": 24,
   "id": "0a9ab6b0",
   "metadata": {},
   "outputs": [
    {
     "name": "stdout",
     "output_type": "stream",
     "text": [
      "encoders.camera.vtransform.attention1.conv.weight\n",
      "encoders.camera.vtransform.attention1.conv.bias\n",
      "encoders.camera.vtransform.attention1.channel_attention.fc.0.weight\n",
      "encoders.camera.vtransform.attention1.channel_attention.fc.0.bias\n",
      "encoders.camera.vtransform.attention1.channel_attention.fc.2.weight\n",
      "encoders.camera.vtransform.attention1.channel_attention.fc.2.bias\n"
     ]
    }
   ],
   "source": [
    "for i in multi_key:\n",
    "    if i[:30]==\"encoders.camera.vtransform.att\":\n",
    "        print(i)"
   ]
  },
  {
   "cell_type": "code",
   "execution_count": 25,
   "id": "ee0c8b21",
   "metadata": {},
   "outputs": [
    {
     "name": "stdout",
     "output_type": "stream",
     "text": [
      "encoders.camera.backbone.patch_embed.projection.weight\n",
      "encoders.camera.backbone.patch_embed.projection.bias\n",
      "encoders.camera.backbone.patch_embed.norm.weight\n",
      "encoders.camera.backbone.patch_embed.norm.bias\n",
      "encoders.camera.backbone.stages.0.blocks.0.norm1.weight\n",
      "encoders.camera.backbone.stages.0.blocks.0.norm1.bias\n",
      "encoders.camera.backbone.stages.0.blocks.0.attn.w_msa.relative_position_bias_table\n",
      "encoders.camera.backbone.stages.0.blocks.0.attn.w_msa.relative_position_index\n",
      "encoders.camera.backbone.stages.0.blocks.0.attn.w_msa.qkv.weight\n",
      "encoders.camera.backbone.stages.0.blocks.0.attn.w_msa.qkv.bias\n",
      "encoders.camera.backbone.stages.0.blocks.0.attn.w_msa.proj.weight\n",
      "encoders.camera.backbone.stages.0.blocks.0.attn.w_msa.proj.bias\n",
      "encoders.camera.backbone.stages.0.blocks.0.norm2.weight\n",
      "encoders.camera.backbone.stages.0.blocks.0.norm2.bias\n",
      "encoders.camera.backbone.stages.0.blocks.0.ffn.layers.0.0.weight\n",
      "encoders.camera.backbone.stages.0.blocks.0.ffn.layers.0.0.bias\n",
      "encoders.camera.backbone.stages.0.blocks.0.ffn.layers.1.weight\n",
      "encoders.camera.backbone.stages.0.blocks.0.ffn.layers.1.bias\n",
      "encoders.camera.backbone.stages.0.blocks.1.norm1.weight\n",
      "encoders.camera.backbone.stages.0.blocks.1.norm1.bias\n",
      "encoders.camera.backbone.stages.0.blocks.1.attn.w_msa.relative_position_bias_table\n",
      "encoders.camera.backbone.stages.0.blocks.1.attn.w_msa.relative_position_index\n",
      "encoders.camera.backbone.stages.0.blocks.1.attn.w_msa.qkv.weight\n",
      "encoders.camera.backbone.stages.0.blocks.1.attn.w_msa.qkv.bias\n",
      "encoders.camera.backbone.stages.0.blocks.1.attn.w_msa.proj.weight\n",
      "encoders.camera.backbone.stages.0.blocks.1.attn.w_msa.proj.bias\n",
      "encoders.camera.backbone.stages.0.blocks.1.norm2.weight\n",
      "encoders.camera.backbone.stages.0.blocks.1.norm2.bias\n",
      "encoders.camera.backbone.stages.0.blocks.1.ffn.layers.0.0.weight\n",
      "encoders.camera.backbone.stages.0.blocks.1.ffn.layers.0.0.bias\n",
      "encoders.camera.backbone.stages.0.blocks.1.ffn.layers.1.weight\n",
      "encoders.camera.backbone.stages.0.blocks.1.ffn.layers.1.bias\n",
      "encoders.camera.backbone.stages.0.downsample.norm.weight\n",
      "encoders.camera.backbone.stages.0.downsample.norm.bias\n",
      "encoders.camera.backbone.stages.0.downsample.reduction.weight\n",
      "encoders.camera.backbone.stages.1.blocks.0.norm1.weight\n",
      "encoders.camera.backbone.stages.1.blocks.0.norm1.bias\n",
      "encoders.camera.backbone.stages.1.blocks.0.attn.w_msa.relative_position_bias_table\n",
      "encoders.camera.backbone.stages.1.blocks.0.attn.w_msa.relative_position_index\n",
      "encoders.camera.backbone.stages.1.blocks.0.attn.w_msa.qkv.weight\n",
      "encoders.camera.backbone.stages.1.blocks.0.attn.w_msa.qkv.bias\n",
      "encoders.camera.backbone.stages.1.blocks.0.attn.w_msa.proj.weight\n",
      "encoders.camera.backbone.stages.1.blocks.0.attn.w_msa.proj.bias\n",
      "encoders.camera.backbone.stages.1.blocks.0.norm2.weight\n",
      "encoders.camera.backbone.stages.1.blocks.0.norm2.bias\n",
      "encoders.camera.backbone.stages.1.blocks.0.ffn.layers.0.0.weight\n",
      "encoders.camera.backbone.stages.1.blocks.0.ffn.layers.0.0.bias\n",
      "encoders.camera.backbone.stages.1.blocks.0.ffn.layers.1.weight\n",
      "encoders.camera.backbone.stages.1.blocks.0.ffn.layers.1.bias\n",
      "encoders.camera.backbone.stages.1.blocks.1.norm1.weight\n",
      "encoders.camera.backbone.stages.1.blocks.1.norm1.bias\n",
      "encoders.camera.backbone.stages.1.blocks.1.attn.w_msa.relative_position_bias_table\n",
      "encoders.camera.backbone.stages.1.blocks.1.attn.w_msa.relative_position_index\n",
      "encoders.camera.backbone.stages.1.blocks.1.attn.w_msa.qkv.weight\n",
      "encoders.camera.backbone.stages.1.blocks.1.attn.w_msa.qkv.bias\n",
      "encoders.camera.backbone.stages.1.blocks.1.attn.w_msa.proj.weight\n",
      "encoders.camera.backbone.stages.1.blocks.1.attn.w_msa.proj.bias\n",
      "encoders.camera.backbone.stages.1.blocks.1.norm2.weight\n",
      "encoders.camera.backbone.stages.1.blocks.1.norm2.bias\n",
      "encoders.camera.backbone.stages.1.blocks.1.ffn.layers.0.0.weight\n",
      "encoders.camera.backbone.stages.1.blocks.1.ffn.layers.0.0.bias\n",
      "encoders.camera.backbone.stages.1.blocks.1.ffn.layers.1.weight\n",
      "encoders.camera.backbone.stages.1.blocks.1.ffn.layers.1.bias\n",
      "encoders.camera.backbone.stages.1.downsample.norm.weight\n",
      "encoders.camera.backbone.stages.1.downsample.norm.bias\n",
      "encoders.camera.backbone.stages.1.downsample.reduction.weight\n",
      "encoders.camera.backbone.stages.2.blocks.0.norm1.weight\n",
      "encoders.camera.backbone.stages.2.blocks.0.norm1.bias\n",
      "encoders.camera.backbone.stages.2.blocks.0.attn.w_msa.relative_position_bias_table\n",
      "encoders.camera.backbone.stages.2.blocks.0.attn.w_msa.relative_position_index\n",
      "encoders.camera.backbone.stages.2.blocks.0.attn.w_msa.qkv.weight\n",
      "encoders.camera.backbone.stages.2.blocks.0.attn.w_msa.qkv.bias\n",
      "encoders.camera.backbone.stages.2.blocks.0.attn.w_msa.proj.weight\n",
      "encoders.camera.backbone.stages.2.blocks.0.attn.w_msa.proj.bias\n",
      "encoders.camera.backbone.stages.2.blocks.0.norm2.weight\n",
      "encoders.camera.backbone.stages.2.blocks.0.norm2.bias\n",
      "encoders.camera.backbone.stages.2.blocks.0.ffn.layers.0.0.weight\n",
      "encoders.camera.backbone.stages.2.blocks.0.ffn.layers.0.0.bias\n",
      "encoders.camera.backbone.stages.2.blocks.0.ffn.layers.1.weight\n",
      "encoders.camera.backbone.stages.2.blocks.0.ffn.layers.1.bias\n",
      "encoders.camera.backbone.stages.2.blocks.1.norm1.weight\n",
      "encoders.camera.backbone.stages.2.blocks.1.norm1.bias\n",
      "encoders.camera.backbone.stages.2.blocks.1.attn.w_msa.relative_position_bias_table\n",
      "encoders.camera.backbone.stages.2.blocks.1.attn.w_msa.relative_position_index\n",
      "encoders.camera.backbone.stages.2.blocks.1.attn.w_msa.qkv.weight\n",
      "encoders.camera.backbone.stages.2.blocks.1.attn.w_msa.qkv.bias\n",
      "encoders.camera.backbone.stages.2.blocks.1.attn.w_msa.proj.weight\n",
      "encoders.camera.backbone.stages.2.blocks.1.attn.w_msa.proj.bias\n",
      "encoders.camera.backbone.stages.2.blocks.1.norm2.weight\n",
      "encoders.camera.backbone.stages.2.blocks.1.norm2.bias\n",
      "encoders.camera.backbone.stages.2.blocks.1.ffn.layers.0.0.weight\n",
      "encoders.camera.backbone.stages.2.blocks.1.ffn.layers.0.0.bias\n",
      "encoders.camera.backbone.stages.2.blocks.1.ffn.layers.1.weight\n",
      "encoders.camera.backbone.stages.2.blocks.1.ffn.layers.1.bias\n",
      "encoders.camera.backbone.stages.2.blocks.2.norm1.weight\n",
      "encoders.camera.backbone.stages.2.blocks.2.norm1.bias\n",
      "encoders.camera.backbone.stages.2.blocks.2.attn.w_msa.relative_position_bias_table\n",
      "encoders.camera.backbone.stages.2.blocks.2.attn.w_msa.relative_position_index\n",
      "encoders.camera.backbone.stages.2.blocks.2.attn.w_msa.qkv.weight\n",
      "encoders.camera.backbone.stages.2.blocks.2.attn.w_msa.qkv.bias\n",
      "encoders.camera.backbone.stages.2.blocks.2.attn.w_msa.proj.weight\n",
      "encoders.camera.backbone.stages.2.blocks.2.attn.w_msa.proj.bias\n",
      "encoders.camera.backbone.stages.2.blocks.2.norm2.weight\n",
      "encoders.camera.backbone.stages.2.blocks.2.norm2.bias\n",
      "encoders.camera.backbone.stages.2.blocks.2.ffn.layers.0.0.weight\n",
      "encoders.camera.backbone.stages.2.blocks.2.ffn.layers.0.0.bias\n",
      "encoders.camera.backbone.stages.2.blocks.2.ffn.layers.1.weight\n",
      "encoders.camera.backbone.stages.2.blocks.2.ffn.layers.1.bias\n",
      "encoders.camera.backbone.stages.2.blocks.3.norm1.weight\n",
      "encoders.camera.backbone.stages.2.blocks.3.norm1.bias\n",
      "encoders.camera.backbone.stages.2.blocks.3.attn.w_msa.relative_position_bias_table\n",
      "encoders.camera.backbone.stages.2.blocks.3.attn.w_msa.relative_position_index\n",
      "encoders.camera.backbone.stages.2.blocks.3.attn.w_msa.qkv.weight\n",
      "encoders.camera.backbone.stages.2.blocks.3.attn.w_msa.qkv.bias\n",
      "encoders.camera.backbone.stages.2.blocks.3.attn.w_msa.proj.weight\n",
      "encoders.camera.backbone.stages.2.blocks.3.attn.w_msa.proj.bias\n",
      "encoders.camera.backbone.stages.2.blocks.3.norm2.weight\n",
      "encoders.camera.backbone.stages.2.blocks.3.norm2.bias\n",
      "encoders.camera.backbone.stages.2.blocks.3.ffn.layers.0.0.weight\n",
      "encoders.camera.backbone.stages.2.blocks.3.ffn.layers.0.0.bias\n",
      "encoders.camera.backbone.stages.2.blocks.3.ffn.layers.1.weight\n",
      "encoders.camera.backbone.stages.2.blocks.3.ffn.layers.1.bias\n",
      "encoders.camera.backbone.stages.2.blocks.4.norm1.weight\n",
      "encoders.camera.backbone.stages.2.blocks.4.norm1.bias\n",
      "encoders.camera.backbone.stages.2.blocks.4.attn.w_msa.relative_position_bias_table\n",
      "encoders.camera.backbone.stages.2.blocks.4.attn.w_msa.relative_position_index\n",
      "encoders.camera.backbone.stages.2.blocks.4.attn.w_msa.qkv.weight\n",
      "encoders.camera.backbone.stages.2.blocks.4.attn.w_msa.qkv.bias\n",
      "encoders.camera.backbone.stages.2.blocks.4.attn.w_msa.proj.weight\n",
      "encoders.camera.backbone.stages.2.blocks.4.attn.w_msa.proj.bias\n",
      "encoders.camera.backbone.stages.2.blocks.4.norm2.weight\n",
      "encoders.camera.backbone.stages.2.blocks.4.norm2.bias\n",
      "encoders.camera.backbone.stages.2.blocks.4.ffn.layers.0.0.weight\n",
      "encoders.camera.backbone.stages.2.blocks.4.ffn.layers.0.0.bias\n",
      "encoders.camera.backbone.stages.2.blocks.4.ffn.layers.1.weight\n",
      "encoders.camera.backbone.stages.2.blocks.4.ffn.layers.1.bias\n",
      "encoders.camera.backbone.stages.2.blocks.5.norm1.weight\n",
      "encoders.camera.backbone.stages.2.blocks.5.norm1.bias\n",
      "encoders.camera.backbone.stages.2.blocks.5.attn.w_msa.relative_position_bias_table\n",
      "encoders.camera.backbone.stages.2.blocks.5.attn.w_msa.relative_position_index\n",
      "encoders.camera.backbone.stages.2.blocks.5.attn.w_msa.qkv.weight\n",
      "encoders.camera.backbone.stages.2.blocks.5.attn.w_msa.qkv.bias\n",
      "encoders.camera.backbone.stages.2.blocks.5.attn.w_msa.proj.weight\n",
      "encoders.camera.backbone.stages.2.blocks.5.attn.w_msa.proj.bias\n",
      "encoders.camera.backbone.stages.2.blocks.5.norm2.weight\n",
      "encoders.camera.backbone.stages.2.blocks.5.norm2.bias\n",
      "encoders.camera.backbone.stages.2.blocks.5.ffn.layers.0.0.weight\n",
      "encoders.camera.backbone.stages.2.blocks.5.ffn.layers.0.0.bias\n",
      "encoders.camera.backbone.stages.2.blocks.5.ffn.layers.1.weight\n",
      "encoders.camera.backbone.stages.2.blocks.5.ffn.layers.1.bias\n",
      "encoders.camera.backbone.stages.2.downsample.norm.weight\n",
      "encoders.camera.backbone.stages.2.downsample.norm.bias\n",
      "encoders.camera.backbone.stages.2.downsample.reduction.weight\n",
      "encoders.camera.backbone.stages.3.blocks.0.norm1.weight\n",
      "encoders.camera.backbone.stages.3.blocks.0.norm1.bias\n",
      "encoders.camera.backbone.stages.3.blocks.0.attn.w_msa.relative_position_bias_table\n",
      "encoders.camera.backbone.stages.3.blocks.0.attn.w_msa.relative_position_index\n",
      "encoders.camera.backbone.stages.3.blocks.0.attn.w_msa.qkv.weight\n",
      "encoders.camera.backbone.stages.3.blocks.0.attn.w_msa.qkv.bias\n",
      "encoders.camera.backbone.stages.3.blocks.0.attn.w_msa.proj.weight\n",
      "encoders.camera.backbone.stages.3.blocks.0.attn.w_msa.proj.bias\n",
      "encoders.camera.backbone.stages.3.blocks.0.norm2.weight\n",
      "encoders.camera.backbone.stages.3.blocks.0.norm2.bias\n",
      "encoders.camera.backbone.stages.3.blocks.0.ffn.layers.0.0.weight\n",
      "encoders.camera.backbone.stages.3.blocks.0.ffn.layers.0.0.bias\n",
      "encoders.camera.backbone.stages.3.blocks.0.ffn.layers.1.weight\n",
      "encoders.camera.backbone.stages.3.blocks.0.ffn.layers.1.bias\n",
      "encoders.camera.backbone.stages.3.blocks.1.norm1.weight\n",
      "encoders.camera.backbone.stages.3.blocks.1.norm1.bias\n",
      "encoders.camera.backbone.stages.3.blocks.1.attn.w_msa.relative_position_bias_table\n",
      "encoders.camera.backbone.stages.3.blocks.1.attn.w_msa.relative_position_index\n",
      "encoders.camera.backbone.stages.3.blocks.1.attn.w_msa.qkv.weight\n",
      "encoders.camera.backbone.stages.3.blocks.1.attn.w_msa.qkv.bias\n",
      "encoders.camera.backbone.stages.3.blocks.1.attn.w_msa.proj.weight\n",
      "encoders.camera.backbone.stages.3.blocks.1.attn.w_msa.proj.bias\n",
      "encoders.camera.backbone.stages.3.blocks.1.norm2.weight\n",
      "encoders.camera.backbone.stages.3.blocks.1.norm2.bias\n",
      "encoders.camera.backbone.stages.3.blocks.1.ffn.layers.0.0.weight\n",
      "encoders.camera.backbone.stages.3.blocks.1.ffn.layers.0.0.bias\n",
      "encoders.camera.backbone.stages.3.blocks.1.ffn.layers.1.weight\n",
      "encoders.camera.backbone.stages.3.blocks.1.ffn.layers.1.bias\n",
      "encoders.camera.backbone.norm1.weight\n",
      "encoders.camera.backbone.norm1.bias\n",
      "encoders.camera.backbone.norm2.weight\n",
      "encoders.camera.backbone.norm2.bias\n",
      "encoders.camera.backbone.norm3.weight\n",
      "encoders.camera.backbone.norm3.bias\n",
      "encoders.camera.neck.lateral_convs.0.conv.weight\n",
      "encoders.camera.neck.lateral_convs.0.bn.weight\n",
      "encoders.camera.neck.lateral_convs.0.bn.bias\n",
      "encoders.camera.neck.lateral_convs.0.bn.running_mean\n",
      "encoders.camera.neck.lateral_convs.0.bn.running_var\n",
      "encoders.camera.neck.lateral_convs.0.bn.num_batches_tracked\n",
      "encoders.camera.neck.lateral_convs.1.conv.weight\n",
      "encoders.camera.neck.lateral_convs.1.bn.weight\n",
      "encoders.camera.neck.lateral_convs.1.bn.bias\n",
      "encoders.camera.neck.lateral_convs.1.bn.running_mean\n",
      "encoders.camera.neck.lateral_convs.1.bn.running_var\n",
      "encoders.camera.neck.lateral_convs.1.bn.num_batches_tracked\n",
      "encoders.camera.neck.fpn_convs.0.conv.weight\n",
      "encoders.camera.neck.fpn_convs.0.bn.weight\n",
      "encoders.camera.neck.fpn_convs.0.bn.bias\n",
      "encoders.camera.neck.fpn_convs.0.bn.running_mean\n",
      "encoders.camera.neck.fpn_convs.0.bn.running_var\n",
      "encoders.camera.neck.fpn_convs.0.bn.num_batches_tracked\n",
      "encoders.camera.neck.fpn_convs.1.conv.weight\n",
      "encoders.camera.neck.fpn_convs.1.bn.weight\n",
      "encoders.camera.neck.fpn_convs.1.bn.bias\n",
      "encoders.camera.neck.fpn_convs.1.bn.running_mean\n",
      "encoders.camera.neck.fpn_convs.1.bn.running_var\n",
      "encoders.camera.neck.fpn_convs.1.bn.num_batches_tracked\n",
      "encoders.camera.vtransform.dx\n",
      "encoders.camera.vtransform.bx\n",
      "encoders.camera.vtransform.nx\n",
      "encoders.camera.vtransform.frustum\n",
      "encoders.camera.vtransform.dtransform.0.weight\n",
      "encoders.camera.vtransform.dtransform.0.bias\n",
      "encoders.camera.vtransform.dtransform.1.weight\n",
      "encoders.camera.vtransform.dtransform.1.bias\n",
      "encoders.camera.vtransform.dtransform.1.running_mean\n",
      "encoders.camera.vtransform.dtransform.1.running_var\n",
      "encoders.camera.vtransform.dtransform.1.num_batches_tracked\n",
      "encoders.camera.vtransform.dtransform.3.weight\n",
      "encoders.camera.vtransform.dtransform.3.bias\n",
      "encoders.camera.vtransform.dtransform.4.weight\n",
      "encoders.camera.vtransform.dtransform.4.bias\n",
      "encoders.camera.vtransform.dtransform.4.running_mean\n",
      "encoders.camera.vtransform.dtransform.4.running_var\n",
      "encoders.camera.vtransform.dtransform.4.num_batches_tracked\n",
      "encoders.camera.vtransform.dtransform.6.weight\n",
      "encoders.camera.vtransform.dtransform.6.bias\n",
      "encoders.camera.vtransform.dtransform.7.weight\n",
      "encoders.camera.vtransform.dtransform.7.bias\n",
      "encoders.camera.vtransform.dtransform.7.running_mean\n",
      "encoders.camera.vtransform.dtransform.7.running_var\n",
      "encoders.camera.vtransform.dtransform.7.num_batches_tracked\n",
      "encoders.camera.vtransform.depth_map_transform.0.weight\n",
      "encoders.camera.vtransform.depth_map_transform.0.bias\n",
      "encoders.camera.vtransform.depth_map_transform.1.weight\n",
      "encoders.camera.vtransform.depth_map_transform.1.bias\n",
      "encoders.camera.vtransform.depth_map_transform.1.running_mean\n",
      "encoders.camera.vtransform.depth_map_transform.1.running_var\n",
      "encoders.camera.vtransform.depth_map_transform.1.num_batches_tracked\n",
      "encoders.camera.vtransform.depth_map_transform.3.weight\n",
      "encoders.camera.vtransform.depth_map_transform.3.bias\n",
      "encoders.camera.vtransform.prenet.0.weight\n",
      "encoders.camera.vtransform.prenet.0.bias\n",
      "encoders.camera.vtransform.prenet.1.weight\n",
      "encoders.camera.vtransform.prenet.1.bias\n",
      "encoders.camera.vtransform.prenet.1.running_mean\n",
      "encoders.camera.vtransform.prenet.1.running_var\n",
      "encoders.camera.vtransform.prenet.1.num_batches_tracked\n",
      "encoders.camera.vtransform.prenet.3.weight\n",
      "encoders.camera.vtransform.prenet.3.bias\n",
      "encoders.camera.vtransform.prenet.4.weight\n",
      "encoders.camera.vtransform.prenet.4.bias\n",
      "encoders.camera.vtransform.prenet.4.running_mean\n",
      "encoders.camera.vtransform.prenet.4.running_var\n",
      "encoders.camera.vtransform.prenet.4.num_batches_tracked\n",
      "encoders.camera.vtransform.depthnet.weight\n",
      "encoders.camera.vtransform.depthnet.bias\n",
      "encoders.camera.vtransform.contextnet.weight\n",
      "encoders.camera.vtransform.contextnet.bias\n",
      "encoders.camera.vtransform.attention1.conv.weight\n",
      "encoders.camera.vtransform.attention1.conv.bias\n",
      "encoders.camera.vtransform.attention1.channel_attention.fc.0.weight\n",
      "encoders.camera.vtransform.attention1.channel_attention.fc.0.bias\n",
      "encoders.camera.vtransform.attention1.channel_attention.fc.2.weight\n",
      "encoders.camera.vtransform.attention1.channel_attention.fc.2.bias\n",
      "encoders.camera.vtransform.convnet.0.weight\n",
      "encoders.camera.vtransform.convnet.0.bias\n",
      "encoders.camera.vtransform.convnet.1.weight\n",
      "encoders.camera.vtransform.convnet.1.bias\n",
      "encoders.camera.vtransform.convnet.1.running_mean\n",
      "encoders.camera.vtransform.convnet.1.running_var\n",
      "encoders.camera.vtransform.convnet.1.num_batches_tracked\n",
      "encoders.camera.vtransform.convnet.3.weight\n",
      "encoders.camera.vtransform.convnet.3.bias\n",
      "encoders.camera.vtransform.convnet.4.weight\n",
      "encoders.camera.vtransform.convnet.4.bias\n",
      "encoders.camera.vtransform.convnet.4.running_mean\n",
      "encoders.camera.vtransform.convnet.4.running_var\n",
      "encoders.camera.vtransform.convnet.4.num_batches_tracked\n",
      "encoders.camera.vtransform.downsample.0.weight\n",
      "encoders.camera.vtransform.downsample.1.weight\n",
      "encoders.camera.vtransform.downsample.1.bias\n",
      "encoders.camera.vtransform.downsample.1.running_mean\n",
      "encoders.camera.vtransform.downsample.1.running_var\n",
      "encoders.camera.vtransform.downsample.1.num_batches_tracked\n",
      "encoders.camera.vtransform.downsample.3.weight\n",
      "encoders.camera.vtransform.downsample.4.weight\n",
      "encoders.camera.vtransform.downsample.4.bias\n",
      "encoders.camera.vtransform.downsample.4.running_mean\n",
      "encoders.camera.vtransform.downsample.4.running_var\n",
      "encoders.camera.vtransform.downsample.4.num_batches_tracked\n",
      "encoders.camera.vtransform.downsample.6.weight\n",
      "encoders.camera.vtransform.downsample.7.weight\n",
      "encoders.camera.vtransform.downsample.7.bias\n",
      "encoders.camera.vtransform.downsample.7.running_mean\n",
      "encoders.camera.vtransform.downsample.7.running_var\n",
      "encoders.camera.vtransform.downsample.7.num_batches_tracked\n",
      "encoders.lidar.backbone.conv_input.0.weight\n",
      "encoders.lidar.backbone.conv_input.1.weight\n",
      "encoders.lidar.backbone.conv_input.1.bias\n",
      "encoders.lidar.backbone.conv_input.1.running_mean\n",
      "encoders.lidar.backbone.conv_input.1.running_var\n",
      "encoders.lidar.backbone.conv_input.1.num_batches_tracked\n",
      "encoders.lidar.backbone.encoder_layers.encoder_layer1.0.conv1.weight\n",
      "encoders.lidar.backbone.encoder_layers.encoder_layer1.0.bn1.weight\n",
      "encoders.lidar.backbone.encoder_layers.encoder_layer1.0.bn1.bias\n",
      "encoders.lidar.backbone.encoder_layers.encoder_layer1.0.bn1.running_mean\n",
      "encoders.lidar.backbone.encoder_layers.encoder_layer1.0.bn1.running_var\n",
      "encoders.lidar.backbone.encoder_layers.encoder_layer1.0.bn1.num_batches_tracked\n",
      "encoders.lidar.backbone.encoder_layers.encoder_layer1.0.conv2.weight\n",
      "encoders.lidar.backbone.encoder_layers.encoder_layer1.0.bn2.weight\n",
      "encoders.lidar.backbone.encoder_layers.encoder_layer1.0.bn2.bias\n",
      "encoders.lidar.backbone.encoder_layers.encoder_layer1.0.bn2.running_mean\n",
      "encoders.lidar.backbone.encoder_layers.encoder_layer1.0.bn2.running_var\n",
      "encoders.lidar.backbone.encoder_layers.encoder_layer1.0.bn2.num_batches_tracked\n",
      "encoders.lidar.backbone.encoder_layers.encoder_layer1.1.conv1.weight\n",
      "encoders.lidar.backbone.encoder_layers.encoder_layer1.1.bn1.weight\n",
      "encoders.lidar.backbone.encoder_layers.encoder_layer1.1.bn1.bias\n",
      "encoders.lidar.backbone.encoder_layers.encoder_layer1.1.bn1.running_mean\n",
      "encoders.lidar.backbone.encoder_layers.encoder_layer1.1.bn1.running_var\n",
      "encoders.lidar.backbone.encoder_layers.encoder_layer1.1.bn1.num_batches_tracked\n",
      "encoders.lidar.backbone.encoder_layers.encoder_layer1.1.conv2.weight\n",
      "encoders.lidar.backbone.encoder_layers.encoder_layer1.1.bn2.weight\n",
      "encoders.lidar.backbone.encoder_layers.encoder_layer1.1.bn2.bias\n",
      "encoders.lidar.backbone.encoder_layers.encoder_layer1.1.bn2.running_mean\n",
      "encoders.lidar.backbone.encoder_layers.encoder_layer1.1.bn2.running_var\n",
      "encoders.lidar.backbone.encoder_layers.encoder_layer1.1.bn2.num_batches_tracked\n",
      "encoders.lidar.backbone.encoder_layers.encoder_layer1.2.0.weight\n",
      "encoders.lidar.backbone.encoder_layers.encoder_layer1.2.1.weight\n",
      "encoders.lidar.backbone.encoder_layers.encoder_layer1.2.1.bias\n",
      "encoders.lidar.backbone.encoder_layers.encoder_layer1.2.1.running_mean\n",
      "encoders.lidar.backbone.encoder_layers.encoder_layer1.2.1.running_var\n",
      "encoders.lidar.backbone.encoder_layers.encoder_layer1.2.1.num_batches_tracked\n",
      "encoders.lidar.backbone.encoder_layers.encoder_layer2.0.conv1.weight\n",
      "encoders.lidar.backbone.encoder_layers.encoder_layer2.0.bn1.weight\n",
      "encoders.lidar.backbone.encoder_layers.encoder_layer2.0.bn1.bias\n",
      "encoders.lidar.backbone.encoder_layers.encoder_layer2.0.bn1.running_mean\n",
      "encoders.lidar.backbone.encoder_layers.encoder_layer2.0.bn1.running_var\n",
      "encoders.lidar.backbone.encoder_layers.encoder_layer2.0.bn1.num_batches_tracked\n",
      "encoders.lidar.backbone.encoder_layers.encoder_layer2.0.conv2.weight\n",
      "encoders.lidar.backbone.encoder_layers.encoder_layer2.0.bn2.weight\n",
      "encoders.lidar.backbone.encoder_layers.encoder_layer2.0.bn2.bias\n",
      "encoders.lidar.backbone.encoder_layers.encoder_layer2.0.bn2.running_mean\n",
      "encoders.lidar.backbone.encoder_layers.encoder_layer2.0.bn2.running_var\n",
      "encoders.lidar.backbone.encoder_layers.encoder_layer2.0.bn2.num_batches_tracked\n",
      "encoders.lidar.backbone.encoder_layers.encoder_layer2.1.conv1.weight\n",
      "encoders.lidar.backbone.encoder_layers.encoder_layer2.1.bn1.weight\n",
      "encoders.lidar.backbone.encoder_layers.encoder_layer2.1.bn1.bias\n",
      "encoders.lidar.backbone.encoder_layers.encoder_layer2.1.bn1.running_mean\n",
      "encoders.lidar.backbone.encoder_layers.encoder_layer2.1.bn1.running_var\n",
      "encoders.lidar.backbone.encoder_layers.encoder_layer2.1.bn1.num_batches_tracked\n",
      "encoders.lidar.backbone.encoder_layers.encoder_layer2.1.conv2.weight\n",
      "encoders.lidar.backbone.encoder_layers.encoder_layer2.1.bn2.weight\n",
      "encoders.lidar.backbone.encoder_layers.encoder_layer2.1.bn2.bias\n",
      "encoders.lidar.backbone.encoder_layers.encoder_layer2.1.bn2.running_mean\n",
      "encoders.lidar.backbone.encoder_layers.encoder_layer2.1.bn2.running_var\n",
      "encoders.lidar.backbone.encoder_layers.encoder_layer2.1.bn2.num_batches_tracked\n",
      "encoders.lidar.backbone.encoder_layers.encoder_layer2.2.0.weight\n",
      "encoders.lidar.backbone.encoder_layers.encoder_layer2.2.1.weight\n",
      "encoders.lidar.backbone.encoder_layers.encoder_layer2.2.1.bias\n",
      "encoders.lidar.backbone.encoder_layers.encoder_layer2.2.1.running_mean\n",
      "encoders.lidar.backbone.encoder_layers.encoder_layer2.2.1.running_var\n",
      "encoders.lidar.backbone.encoder_layers.encoder_layer2.2.1.num_batches_tracked\n",
      "encoders.lidar.backbone.encoder_layers.encoder_layer3.0.conv1.weight\n",
      "encoders.lidar.backbone.encoder_layers.encoder_layer3.0.bn1.weight\n",
      "encoders.lidar.backbone.encoder_layers.encoder_layer3.0.bn1.bias\n",
      "encoders.lidar.backbone.encoder_layers.encoder_layer3.0.bn1.running_mean\n",
      "encoders.lidar.backbone.encoder_layers.encoder_layer3.0.bn1.running_var\n",
      "encoders.lidar.backbone.encoder_layers.encoder_layer3.0.bn1.num_batches_tracked\n",
      "encoders.lidar.backbone.encoder_layers.encoder_layer3.0.conv2.weight\n",
      "encoders.lidar.backbone.encoder_layers.encoder_layer3.0.bn2.weight\n",
      "encoders.lidar.backbone.encoder_layers.encoder_layer3.0.bn2.bias\n",
      "encoders.lidar.backbone.encoder_layers.encoder_layer3.0.bn2.running_mean\n",
      "encoders.lidar.backbone.encoder_layers.encoder_layer3.0.bn2.running_var\n",
      "encoders.lidar.backbone.encoder_layers.encoder_layer3.0.bn2.num_batches_tracked\n",
      "encoders.lidar.backbone.encoder_layers.encoder_layer3.1.conv1.weight\n",
      "encoders.lidar.backbone.encoder_layers.encoder_layer3.1.bn1.weight\n",
      "encoders.lidar.backbone.encoder_layers.encoder_layer3.1.bn1.bias\n",
      "encoders.lidar.backbone.encoder_layers.encoder_layer3.1.bn1.running_mean\n",
      "encoders.lidar.backbone.encoder_layers.encoder_layer3.1.bn1.running_var\n",
      "encoders.lidar.backbone.encoder_layers.encoder_layer3.1.bn1.num_batches_tracked\n",
      "encoders.lidar.backbone.encoder_layers.encoder_layer3.1.conv2.weight\n",
      "encoders.lidar.backbone.encoder_layers.encoder_layer3.1.bn2.weight\n",
      "encoders.lidar.backbone.encoder_layers.encoder_layer3.1.bn2.bias\n",
      "encoders.lidar.backbone.encoder_layers.encoder_layer3.1.bn2.running_mean\n",
      "encoders.lidar.backbone.encoder_layers.encoder_layer3.1.bn2.running_var\n",
      "encoders.lidar.backbone.encoder_layers.encoder_layer3.1.bn2.num_batches_tracked\n",
      "encoders.lidar.backbone.encoder_layers.encoder_layer3.2.0.weight\n",
      "encoders.lidar.backbone.encoder_layers.encoder_layer3.2.1.weight\n",
      "encoders.lidar.backbone.encoder_layers.encoder_layer3.2.1.bias\n",
      "encoders.lidar.backbone.encoder_layers.encoder_layer3.2.1.running_mean\n",
      "encoders.lidar.backbone.encoder_layers.encoder_layer3.2.1.running_var\n",
      "encoders.lidar.backbone.encoder_layers.encoder_layer3.2.1.num_batches_tracked\n",
      "encoders.lidar.backbone.encoder_layers.encoder_layer4.0.conv1.weight\n",
      "encoders.lidar.backbone.encoder_layers.encoder_layer4.0.bn1.weight\n",
      "encoders.lidar.backbone.encoder_layers.encoder_layer4.0.bn1.bias\n",
      "encoders.lidar.backbone.encoder_layers.encoder_layer4.0.bn1.running_mean\n",
      "encoders.lidar.backbone.encoder_layers.encoder_layer4.0.bn1.running_var\n",
      "encoders.lidar.backbone.encoder_layers.encoder_layer4.0.bn1.num_batches_tracked\n",
      "encoders.lidar.backbone.encoder_layers.encoder_layer4.0.conv2.weight\n",
      "encoders.lidar.backbone.encoder_layers.encoder_layer4.0.bn2.weight\n",
      "encoders.lidar.backbone.encoder_layers.encoder_layer4.0.bn2.bias\n",
      "encoders.lidar.backbone.encoder_layers.encoder_layer4.0.bn2.running_mean\n",
      "encoders.lidar.backbone.encoder_layers.encoder_layer4.0.bn2.running_var\n",
      "encoders.lidar.backbone.encoder_layers.encoder_layer4.0.bn2.num_batches_tracked\n",
      "encoders.lidar.backbone.encoder_layers.encoder_layer4.1.conv1.weight\n",
      "encoders.lidar.backbone.encoder_layers.encoder_layer4.1.bn1.weight\n",
      "encoders.lidar.backbone.encoder_layers.encoder_layer4.1.bn1.bias\n",
      "encoders.lidar.backbone.encoder_layers.encoder_layer4.1.bn1.running_mean\n",
      "encoders.lidar.backbone.encoder_layers.encoder_layer4.1.bn1.running_var\n",
      "encoders.lidar.backbone.encoder_layers.encoder_layer4.1.bn1.num_batches_tracked\n",
      "encoders.lidar.backbone.encoder_layers.encoder_layer4.1.conv2.weight\n",
      "encoders.lidar.backbone.encoder_layers.encoder_layer4.1.bn2.weight\n",
      "encoders.lidar.backbone.encoder_layers.encoder_layer4.1.bn2.bias\n",
      "encoders.lidar.backbone.encoder_layers.encoder_layer4.1.bn2.running_mean\n",
      "encoders.lidar.backbone.encoder_layers.encoder_layer4.1.bn2.running_var\n",
      "encoders.lidar.backbone.encoder_layers.encoder_layer4.1.bn2.num_batches_tracked\n",
      "encoders.lidar.backbone.conv_out.0.weight\n",
      "encoders.lidar.backbone.conv_out.1.weight\n",
      "encoders.lidar.backbone.conv_out.1.bias\n",
      "encoders.lidar.backbone.conv_out.1.running_mean\n",
      "encoders.lidar.backbone.conv_out.1.running_var\n",
      "encoders.lidar.backbone.conv_out.1.num_batches_tracked\n"
     ]
    }
   ],
   "source": [
    "for i in multi_key:\n",
    "    if i[:8]==\"encoders\":\n",
    "        print(i)"
   ]
  },
  {
   "cell_type": "code",
   "execution_count": 26,
   "id": "b9b051e8",
   "metadata": {},
   "outputs": [],
   "source": [
    "# new_pth=multi_pth\n",
    "# for i in multi2det_key:\n",
    "#     new_pth['state_dict'][i]=seg_pth['state_dict'][i]\n",
    "# torch.save(new_pth,\"/data/workdirs/bevfusion-multitask/dgbev_addseg_epoch10/resume_epoch6.pth\")"
   ]
  },
  {
   "cell_type": "code",
   "execution_count": 27,
   "id": "f812c824",
   "metadata": {},
   "outputs": [
    {
     "data": {
      "text/plain": [
       "{'heads.map.classifier.0.weight',\n",
       " 'heads.map.classifier.1.bias',\n",
       " 'heads.map.classifier.1.num_batches_tracked',\n",
       " 'heads.map.classifier.1.running_mean',\n",
       " 'heads.map.classifier.1.running_var',\n",
       " 'heads.map.classifier.1.weight',\n",
       " 'heads.map.classifier.3.weight',\n",
       " 'heads.map.classifier.4.bias',\n",
       " 'heads.map.classifier.4.num_batches_tracked',\n",
       " 'heads.map.classifier.4.running_mean',\n",
       " 'heads.map.classifier.4.running_var',\n",
       " 'heads.map.classifier.4.weight',\n",
       " 'heads.map.classifier.6.bias',\n",
       " 'heads.map.classifier.6.weight'}"
      ]
     },
     "execution_count": 27,
     "metadata": {},
     "output_type": "execute_result"
    }
   ],
   "source": [
    "multi2det_key"
   ]
  },
  {
   "cell_type": "code",
   "execution_count": 28,
   "id": "339f327e",
   "metadata": {},
   "outputs": [],
   "source": [
    "# new_pth=multi_pth\n",
    "# for i in multi2det_key:\n",
    "#     new_pth['state_dict'][i]=seg_pth['state_dict'][i]\n",
    "#     #multi的网络加上seg头\n",
    "# for i in multi_key:\n",
    "#     if i[:8]==\"encoders\":\n",
    "#         new_pth['state_dict'][i]=seg_pth['state_dict'][i]\n",
    "#     #multi的encoder用seg的encoder\n",
    "# torch.save(new_pth,\"/data/workdirs/bevfusion-multitask/dgbev_addseg_encoder_epoch10/resume_epoch6.pth\")\n"
   ]
  },
  {
   "cell_type": "code",
   "execution_count": 29,
   "id": "7a8df041",
   "metadata": {},
   "outputs": [],
   "source": [
    "new_pth=multi_pth\n",
    "for i in multi2det_key:\n",
    "    new_pth['state_dict'][i]=seg_pth['state_dict'][i]\n",
    "    #multi的网络加上seg头\n",
    "for i in seg_key:    \n",
    "    new_pth['state_dict'][i]=seg_pth['state_dict'][i]\n",
    "    #multi的encoder用seg的encoder\n",
    "torch.save(new_pth,\"/data/workdirs/bevfusion-multitask/dgbev_addseg_encoder_epoch10/resume_epoch6_seg.pth\")"
   ]
  },
  {
   "cell_type": "code",
   "execution_count": 30,
   "id": "c29513e9",
   "metadata": {},
   "outputs": [
    {
     "data": {
      "text/plain": [
       "dict_keys(['meta', 'state_dict', 'optimizer'])"
      ]
     },
     "execution_count": 30,
     "metadata": {},
     "output_type": "execute_result"
    }
   ],
   "source": [
    "new_pth.keys()"
   ]
  },
  {
   "cell_type": "code",
   "execution_count": 31,
   "id": "2b741290",
   "metadata": {},
   "outputs": [],
   "source": [
    "multi2new_key=multi_key-new_pth['state_dict'].keys()"
   ]
  },
  {
   "cell_type": "code",
   "execution_count": 32,
   "id": "fcc9ba2f",
   "metadata": {},
   "outputs": [
    {
     "data": {
      "text/plain": [
       "set()"
      ]
     },
     "execution_count": 32,
     "metadata": {},
     "output_type": "execute_result"
    }
   ],
   "source": [
    "multi2new_key"
   ]
  },
  {
   "cell_type": "code",
   "execution_count": 33,
   "id": "a934a9a2",
   "metadata": {},
   "outputs": [
    {
     "data": {
      "text/plain": [
       "set()"
      ]
     },
     "execution_count": 33,
     "metadata": {},
     "output_type": "execute_result"
    }
   ],
   "source": [
    "new_pth['state_dict'].keys()-multi_key"
   ]
  },
  {
   "cell_type": "code",
   "execution_count": null,
   "id": "a296c277",
   "metadata": {},
   "outputs": [],
   "source": []
  },
  {
   "cell_type": "code",
   "execution_count": null,
   "id": "13b564d8",
   "metadata": {},
   "outputs": [],
   "source": []
  }
 ],
 "metadata": {
  "kernelspec": {
   "display_name": "Python 3 (ipykernel)",
   "language": "python",
   "name": "python3"
  },
  "language_info": {
   "codemirror_mode": {
    "name": "ipython",
    "version": 3
   },
   "file_extension": ".py",
   "mimetype": "text/x-python",
   "name": "python",
   "nbconvert_exporter": "python",
   "pygments_lexer": "ipython3",
   "version": "3.8.0"
  }
 },
 "nbformat": 4,
 "nbformat_minor": 5
}
